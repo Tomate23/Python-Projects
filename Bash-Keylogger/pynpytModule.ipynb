{
 "metadata": {
  "language_info": {
   "codemirror_mode": {
    "name": "ipython",
    "version": 3
   },
   "file_extension": ".py",
   "mimetype": "text/x-python",
   "name": "python",
   "nbconvert_exporter": "python",
   "pygments_lexer": "ipython3",
   "version": "3.8.5-final"
  },
  "orig_nbformat": 2,
  "kernelspec": {
   "name": "python3",
   "display_name": "Python 3",
   "language": "python"
  }
 },
 "nbformat": 4,
 "nbformat_minor": 2,
 "cells": [
  {
   "source": [
    "# Handling the keyboard\n",
    "\n",
    "<img width=\"100\" height=\"100\" src=\"https://raw.githubusercontent.com/Tomate23/Images/7a904ed477ddfc65052cb4a98fb803c5ab3d00ec/python-powered-w.svg\" alt=\"Weather free icon\"> <img width=\"200\" height=\"100\" src=\"https://nitratine.net/posts/how-to-use-pynputs-mouse-and-keyboard-listener-at-the-same-time/feature.png\" alt=\"Weather free icon\"> <img width=\"100\" height=\"125\" src=\"https://raw.githubusercontent.com/Tomate23/Images/a11fedf9f3a0dbb2c91c741f7b4ce0d1caba07d3/poweredbyubuntu2.svg\" alt=\"Weather free icon\">\n",
    "\n",
    "---\n",
    "\n",
    "The package ``pynput.keyboard`` contains classes for controlling and monitoring the keyboard. How can we do that? we will be using **functions** and giving to this functions the funcionalities of the pynput.keyboard module.\n",
    "\n",
    "\n"
   ],
   "cell_type": "markdown",
   "metadata": {}
  },
  {
   "cell_type": "code",
   "execution_count": null,
   "metadata": {},
   "outputs": [],
   "source": [
    "from pynput.keyboard import Listener\n",
    "import sys # talk about this module later\n",
    "\n",
    "# our function take the argument key, this argument represents the keys (keyboard listener events)\n",
    "def capture(key): \n",
    "    # Define a VARIABLE\n",
    "    event = str(key) # the event are in byte fromat by default, son convert to string \n",
    "    # Delete the quotation marks\n",
    "    event = event.replace(\"'\", \"\") # Repalce is for change the value of the events \n",
    "    # show the captured event \n",
    "    print(\"Event: \", event)\n"
   ]
  },
  {
   "source": [
    "This function called ``capture(key)`` take **key** as variable and is going to be provide to the ``Listener()`` function and as we have said before our function represents the corresponded event of every key pressed.\n",
    "\n",
    "Now we have to **call** the ``Listener()`` function and pass as his parameter our ``capture()`` function which contains the key event.\n",
    "\n",
    "```python\n",
    "with Listener(on_press=capture) as c:\n",
    "    c.join()\n",
    "```\n",
    "\n",
    "Now we have our keylogger."
   ],
   "cell_type": "markdown",
   "metadata": {}
  },
  {
   "cell_type": "code",
   "execution_count": null,
   "metadata": {},
   "outputs": [],
   "source": [
    "# All code \n",
    "from pynput.keyboard import Listener\n",
    "import sys\n",
    "\n",
    "def capture(key):\n",
    "    event = str(key)\n",
    "    event.replace(\"'\", \"\")\n",
    "    print(\"Key > \", event)\n",
    "\n",
    "with Listener(on_press=capture) as c:\n",
    "    c.join()"
   ]
  },
  {
   "cell_type": "code",
   "execution_count": null,
   "metadata": {},
   "outputs": [],
   "source": [
    "from datetime import datetime\n",
    "now = datetime.now()\n",
    "current_time = now.strftime(\"%d/%m/%Y:%H:%M\")\n",
    "print(current_time)"
   ]
  }
 ]
}