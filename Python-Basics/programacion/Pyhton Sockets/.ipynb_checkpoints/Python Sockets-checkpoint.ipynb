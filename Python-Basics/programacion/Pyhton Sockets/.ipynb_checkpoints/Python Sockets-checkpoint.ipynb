{
 "cells": [
  {
   "cell_type": "markdown",
   "metadata": {},
   "source": [
    "# Python Sockets\n",
    "## ¿Que es un socket de internet?\n",
    "**Socket** designa un concepto abstracto por el cual dos programas (posiblemente situados en computadoras distintas) pueden intercambiar cualquier flujo de datos de manera fiable y ordenada.\n",
    "El término *socket* es también usado como el nombre de una **interfaz de programación de aplicaciones (API)** para la familia de protocolos de Internet TCP/IP, provista usualmente por el sistema operativo.\n",
    "\n",
    "Los sockets de Internet constituyen el mecanismo para la entrega de paquetes de datos provenientes de la tarjeta de red a los procesos o hilos apropiados. Un socket queda definido por un par de **direcciones IP** local y remota, un protocolo de transporte y un par de números de puerto local y remoto.\n",
    "\n",
    ">### protocolos de Internet TCP/IP\n",
    "> TCP/IP es un conjunto de protocolos que permiten la comunicación entre los ordenadores pertenecientes a una red. La sigla TCP/IP significa Protocolo de control de transmisión/Protocolo de Internet.\n",
    ">### Capas del modelo TCP/IP\n",
    ">- Capa 4 o capa de aplicación.\n",
    ">- Capa 3 o capa de transporte.\n",
    ">- Capa 2 o capa de internet.\n",
    ">- Capa 1 o capa de acceso al medio.\n",
    "## Socket's\n",
    "Un socket queda definido por la IP y puerto de origen, y por la IP y puerto de destino.Una aplicación puede trabajar con varios conexiones de red abiertas a la vez.La información se envía y recibe por el socket en *binario, es decir, en bytes.*\n",
    "\n",
    "### Para trabajar con un socket, \n",
    ">* primero hay que crearlo. \n",
    ">* asociarlo al otro extremo de comunicación \n",
    ">* relizar operaciones de recepción y envío de información\n",
    ">* por último cerrarlo.\n",
    "\n",
    "Una vez el socket se ha creado este se asigna a una variable, esta variable gestiona el socker y guarda la informacion de la conexion asi como su estado. Si tenemos que hacer alguna operacion con el socket necesitaremos de esta variable, Un **socket cliente TCP** se crea, se asocia a un servidor, envía y recibe datos, y se cierra. Un **socket servidor TCP** se crea, *se asocia a un puerto del sistema*, se pone en escucha, y a partir de entonces en un *bucle infinito* espera una conexión de un cliente, la atiende enviando y recibiendo datos, y cierra dicha conexión.\n",
    "\n",
    ">### Protocolo de datagramas de usuario (UDP)\n",
    ">El protocolo de datagramas de usuario es un protocolo del **nivel de transporte** basado en el intercambio de datagramas.Permite el envío de datagramas a través de la red sin que se haya establecido previamente una conexión, ya que el propio datagrama incorpora suficiente información de direccionamiento en su cabecera. \n",
    ">#### ¿Que es un datagrama?\n",
    ">Un datagrama es un **paquete de datos** que constituye el **mínimo bloque de información en una red de conmutación** por datagramas, la cual es uno de los dos tipos de **protocolo de comunicación por conmutación de paquetes usados para encaminar por rutas** diversas dichas unidades de información entre nodos de una red, por lo que se dice que no está orientado a conexión.\n",
    ">#### Estructura del modelo\n",
    ">Los datagramas se componen de:\n",
    ">- una cabecera con información de control\n",
    ">- los propios datos que se desean transmitir.\n",
    "\n",
    ">#### Funcionamiento\n",
    ">En la técnica de datagramas, **cada paquete se trata de forma independiente gracias a que puede contener en la cabecera la dirección de origen y destinatario**. Mediante un router, la red puede encaminar cada fragmento hacia el receptor o *ETD* (Equipo Terminal de Datos) por rutas diferentes.\n",
    "\n",
    "\n"
   ]
  },
  {
   "cell_type": "markdown",
   "metadata": {},
   "source": [
    "## Funciones sobre sockets\n",
    "`\n",
    "s = socket.socket(familia, tipo) # crea el socket\n",
    "with socket.socket(...) as s:    # crea el socket\n",
    "s.connect((host, puerto))        # conecta con servidor en un puerto\n",
    "var = s.recv(límite)             # espera a recibir bytes en socket TCP\n",
    "var, ip = s.recvfrom(límite)     # espera a recibir bytes en socket UDP\n",
    "s.send(var)                      # envía bytes por el socket TCP\n",
    "s.sendto(var, (ip, puerto))      # envía bytes por el socket UDP\n",
    "s.close()                        # libera el socket\n",
    "s.bind((ip, puerto))             # asocia socket servidor a ip y puerto\n",
    "s.listen(max_cola)               # activa socket servidor\n",
    "s2, ip = s.accept()              # acepta conexión de cliente y crea s2\n",
    "ip = s.gethostbyname(host)       # encuentra IP asociada a host (DNS)\n",
    "host = s.gethostbyaddr(ip)       # encuentra nombre asociado a ip (DNS)\n",
    "var_bytes = str.encode(var_string, 'utf-8') # pasa de string a bytes\n",
    "var_string = var_bytes.decode('utf-8')      # pasa de bytes a string`\n",
    "\n",
    "### with statament in python\n",
    "`with` statement in Python is used in exception handling to make the code cleaner and much more readable. It simplifies the management of common resources like file streams. more information about `with`statament [go link](https://www.geeksforgeeks.org/with-statement-in-python/).\n",
    "* Observe the following code example on how the use of with statement makes code cleaner."
   ]
  },
  {
   "cell_type": "code",
   "execution_count": null,
   "metadata": {},
   "outputs": [],
   "source": [
    "# file handling \n",
    "\n",
    "# 1) without using with statement \n",
    "\n",
    "file = open('file_path', 'w') \n",
    "file.write('hello world !') \n",
    "file.close() \n",
    "\n",
    "# 2) without using with statement \n",
    "\n",
    "file = open('file_path', 'w') \n",
    "try: \n",
    "    file.write('hello world') \n",
    "finally: \n",
    "    file.close() \n",
    "    \n",
    "# using with statement \n",
    "with open('file_path', 'w') as file: \n",
    "    file.write('hello world !') "
   ]
  },
  {
   "cell_type": "markdown",
   "metadata": {},
   "source": [
    "when we use the `with` statament we can pass certian things \n",
    "for example if we want to open a file, with `with` we can pass the fact of close this file:\n"
   ]
  },
  {
   "cell_type": "code",
   "execution_count": null,
   "metadata": {},
   "outputs": [],
   "source": [
    "#Sample\n",
    "with open(\"thisFile.txt\", \"r\") as file:\n",
    "    for i in file:\n",
    "        #any code to execute"
   ]
  },
  {
   "cell_type": "markdown",
   "metadata": {},
   "source": [
    "##  Modos de creación de un socket son:\n",
    "`\n",
    "socket.AF_UNIX     → socket Unix usando sistema de ficheros\n",
    "socket.AF_INET     → socket IPv4 usando red\n",
    "socket.AF_INET6    → socket IPv6 usando red\n",
    "socket.SOCK_STREAM → socket TCP (con conexión)\n",
    "socket.SOCK_DGRAM  → socket UDP (sin conexión)\n",
    "`\n"
   ]
  },
  {
   "cell_type": "markdown",
   "metadata": {},
   "source": [
    "## Ejemplo de socket servidor:\n"
   ]
  },
  {
   "cell_type": "code",
   "execution_count": null,
   "metadata": {},
   "outputs": [],
   "source": [
    "import socket\n",
    "serversocket = socket.socket(socket.AF_INET, socket.SOCK_STREAM)#crea al socket \n",
    "print('Socket creado satisfactoriamente')\n",
    "serversocket.bind(('', 12345))# asocia socket servidor a ip y puerto\n",
    "print('socket asociado al puerto 12345 y a todas las IPs')\n",
    "serversocket.listen(5)# activa socket servidor UDP\n",
    "print('socket escuchando')\n",
    "# Bucle infinito: siempre escuchando y atendiendo clientes\n",
    "while True:\n",
    "    clientsocket, address = serversocket.accept()# acepta conexión de cliente y crea 'clientsocket'\n",
    "    print('Acepta conexión del cliente', address)\n",
    "    clientsocket.send(b'Gracias por conectarte')# envía bytes por el socket TCP\n",
    "    print('Mensaje enviado')\n",
    "    clientsocket.close()\n",
    "    print('Conexión con el cliente cerrada')\n"
   ]
  },
  {
   "cell_type": "markdown",
   "metadata": {},
   "source": [
    "## Ejemplo de socket cliente:"
   ]
  },
  {
   "cell_type": "code",
   "execution_count": null,
   "metadata": {},
   "outputs": [],
   "source": [
    "import socket\n",
    "s = socket.socket(socket.AF_INET, socket.SOCK_STREAM)\n",
    "s.connect(('127.0.0.1', 12345))# ip localhost con el puerto 12345\n",
    "print(s.recv(1024))\n",
    "s.close()"
   ]
  },
  {
   "cell_type": "markdown",
   "metadata": {},
   "source": [
    "## Casos de utilidad"
   ]
  },
  {
   "cell_type": "code",
   "execution_count": null,
   "metadata": {},
   "outputs": [],
   "source": [
    "#how we can find an ip usin sockets\n",
    "import socket \n",
    "ip = socket.gethostbyname('www.google.com')#we use socket.gethostbyname\n",
    "print (ip)\n",
    "\n",
    "#open file in linux (remenber the superUser)\n",
    "with open(\"/etc/shadow\", \"r\") as file:\n",
    "    for i in file:\n",
    "        #any code to execute\n",
    "\n"
   ]
  },
  {
   "cell_type": "markdown",
   "metadata": {},
   "source": [
    "## Conexion Cliente-Servidor (Enviado-reciviendo strings)\n",
    "### Progrmación del Cliente"
   ]
  },
  {
   "cell_type": "code",
   "execution_count": null,
   "metadata": {},
   "outputs": [],
   "source": [
    "import socket\n",
    "socketClient = socket.socket(socket.AF_INET, socket.SOCK_STREAM)\n",
    "socketClient.connect((\"127.0.0.1\", 12345))\n",
    "mensaje = input(\"numero Cliente:\")\n",
    "#en este bucle es donde se envia el mensaje formato bytes.\n",
    "while True:\n",
    "    msg=str.encode(mensaje, 'utf-8')#convertimos de string a bytes.\n",
    "    socketClient.send(msg)\n",
    "    break\n",
    "print(\"Server say: \", s.recv(1024))\n",
    "socketClient.close()"
   ]
  },
  {
   "cell_type": "markdown",
   "metadata": {},
   "source": [
    "### Programación del Servidor "
   ]
  },
  {
   "cell_type": "code",
   "execution_count": null,
   "metadata": {},
   "outputs": [],
   "source": [
    "import socket\n",
    "try:\n",
    "    socketServer = socket.socket(socket.AF_INET, socket.SOCK_STREAM)\n",
    "    print(\"socket creado satisfactoriamente\")\n",
    "except socket.error as error:\n",
    "    print(\"Algo ha ido mal: \", error)\n",
    "host = ''\n",
    "port = 12345\n",
    "try:\n",
    "    socketServer.bind((host,port))\n",
    "    print(\"socket unido a: \", port)\n",
    "except socket.error as error:\n",
    "    print(\"has ha salido mal con bind() : \", error)\n",
    "socketServer.listen(1) \n",
    "while True:\n",
    "    #aceptamos y recibimos los datos que el cliente envia\n",
    "    cliente, address = socketServer.accept()# importante que este dentro del bucle.\n",
    "    #recibimos el mensaje con recv()\n",
    "    msgClient = cliente.recv(1024)\n",
    "    #convertimos de bytes a str y *2\n",
    "    msgClient = msgClient.decode('utf-8')\n",
    "    msgToClient = int(msgClient) * 2\n",
    "    msgToClient2= str(msgToClient)\n",
    "    #pasamos a bytes el resultado\n",
    "    msg=str.encode(msgToClient2, 'utf-8')\n",
    "    #enviamos el mensaje \n",
    "    cliente.send(msg)\n",
    "    cliente.close()\n",
    "socketServer.close()"
   ]
  },
  {
   "cell_type": "markdown",
   "metadata": {},
   "source": [
    "## Analicis de un rango de puertos TCP imprimiendo qué puertos están a la escucha."
   ]
  },
  {
   "cell_type": "code",
   "execution_count": 1,
   "metadata": {},
   "outputs": [
    {
     "name": "stdout",
     "output_type": "stream",
     "text": [
      "Puerto abierto: 135\n"
     ]
    },
    {
     "ename": "OSError",
     "evalue": "[WinError 10013] Intento de acceso a un socket no permitido por sus permisos de acceso",
     "output_type": "error",
     "traceback": [
      "\u001b[1;31m---------------------------------------------------------------------------\u001b[0m",
      "\u001b[1;31mOSError\u001b[0m                                   Traceback (most recent call last)",
      "\u001b[1;32m<ipython-input-1-e1c1c11f6b80>\u001b[0m in \u001b[0;36m<module>\u001b[1;34m\u001b[0m\n\u001b[0;32m      6\u001b[0m     \u001b[1;32mtry\u001b[0m\u001b[1;33m:\u001b[0m\u001b[1;33m\u001b[0m\u001b[1;33m\u001b[0m\u001b[0m\n\u001b[0;32m      7\u001b[0m         \u001b[0ms\u001b[0m \u001b[1;33m=\u001b[0m \u001b[0msocket\u001b[0m\u001b[1;33m.\u001b[0m\u001b[0msocket\u001b[0m\u001b[1;33m(\u001b[0m\u001b[0msocket\u001b[0m\u001b[1;33m.\u001b[0m\u001b[0mAF_INET\u001b[0m\u001b[1;33m,\u001b[0m \u001b[0msocket\u001b[0m\u001b[1;33m.\u001b[0m\u001b[0mSOCK_STREAM\u001b[0m\u001b[1;33m)\u001b[0m\u001b[1;33m\u001b[0m\u001b[1;33m\u001b[0m\u001b[0m\n\u001b[1;32m----> 8\u001b[1;33m         \u001b[0ms\u001b[0m\u001b[1;33m.\u001b[0m\u001b[0mconnect\u001b[0m\u001b[1;33m(\u001b[0m\u001b[1;33m(\u001b[0m\u001b[0mip\u001b[0m\u001b[1;33m,\u001b[0m \u001b[0mp\u001b[0m\u001b[1;33m)\u001b[0m\u001b[1;33m)\u001b[0m\u001b[1;33m\u001b[0m\u001b[1;33m\u001b[0m\u001b[0m\n\u001b[0m\u001b[0;32m      9\u001b[0m         \u001b[0mprint\u001b[0m\u001b[1;33m(\u001b[0m\u001b[1;34m'Puerto abierto:'\u001b[0m\u001b[1;33m,\u001b[0m \u001b[0mp\u001b[0m\u001b[1;33m)\u001b[0m\u001b[1;33m\u001b[0m\u001b[1;33m\u001b[0m\u001b[0m\n\u001b[0;32m     10\u001b[0m         \u001b[0ms\u001b[0m\u001b[1;33m.\u001b[0m\u001b[0mclose\u001b[0m\u001b[1;33m(\u001b[0m\u001b[1;33m)\u001b[0m\u001b[1;33m\u001b[0m\u001b[1;33m\u001b[0m\u001b[0m\n",
      "\u001b[1;31mOSError\u001b[0m: [WinError 10013] Intento de acceso a un socket no permitido por sus permisos de acceso"
     ]
    }
   ],
   "source": [
    "import socket\n",
    "ip = '127.0.0.1'\n",
    "puertoI = 1\n",
    "puertoF = 1024# el final es el 1024 porque es el puerto que usa el protocolo TCP\n",
    "for p in range(puertoI, puertoF+1):\n",
    "    try:\n",
    "        s = socket.socket(socket.AF_INET, socket.SOCK_STREAM)\n",
    "        s.connect((ip, p))\n",
    "        print('Puerto abierto:', p)\n",
    "        s.close()\n",
    "    except ConnectionRefusedError:\n",
    "        pass"
   ]
  },
  {
   "cell_type": "markdown",
   "metadata": {},
   "source": [
    "# Sockets / Linux / Troyano\n",
    "+ dependiendo de lo que el usuario ponga en la url del navegador podemos hacer varias cosas usando sockets en python. para empezar tenemos que saber como llega al programa la informacion, es decir si yo escribo en el navegador por ejemplo \"hola.com\" como llega este dominio a nuestro socket.\n",
    "+ after this we have to think about what we want to do, at least in linux we can do a lot of thing such as see the users, passwords, files, etc."
   ]
  },
  {
   "cell_type": "code",
   "execution_count": null,
   "metadata": {},
   "outputs": [],
   "source": [
    "'''getting the information from the browser, for example if we type \"password.html\" we'll get \"GET /password.html HTTP/1.1\"\n",
    "but how can we see this?'''\n",
    "#1. recive data from the browser\n",
    "while True:\n",
    "    client, add = myScoket.accept()\n",
    "    msgHost = client.recv(1024)#recive the data\n",
    "    #now we have to conert the bytes to string\n",
    "    msgHost = msgHost.decode('utf-8')\n",
    "    #an important matter is that we have to know that the browser retuns us an array, and the this item is what we want to get\n",
    "    #using the split() function we can seoarate the item in the array\n",
    "    separate = msgHost.split(\"\\n\")\n",
    "    url = separate[0]#now we have the domain in python syntax GET method\n",
    "    "
   ]
  }
 ],
 "metadata": {
  "kernelspec": {
   "display_name": "Python 3",
   "language": "python",
   "name": "python3"
  },
  "language_info": {
   "codemirror_mode": {
    "name": "ipython",
    "version": 3
   },
   "file_extension": ".py",
   "mimetype": "text/x-python",
   "name": "python",
   "nbconvert_exporter": "python",
   "pygments_lexer": "ipython3",
   "version": "3.7.1"
  }
 },
 "nbformat": 4,
 "nbformat_minor": 2
}
