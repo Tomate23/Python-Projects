{
 "cells": [
  {
   "cell_type": "markdown",
   "metadata": {},
   "source": [
    "# Keyboard module in Pthon\n",
    "This library is used to get the full control of the keyboard. It's a samall Python library which can hook global events, as hotkeys, simulate key presses amd more.\n",
    "* installation:`pip install keyboard`"
   ]
  },
  {
   "cell_type": "markdown",
   "metadata": {},
   "source": [
    "### Example:"
   ]
  },
  {
   "cell_type": "code",
   "execution_count": null,
   "metadata": {},
   "outputs": [],
   "source": [
    "# import the module \n",
    "import keyboard as key\n",
    "\n",
    "#to write content to output \n",
    "key.write(\"simple output with keyboard module\\n\")\n",
    "\n",
    "#It writes the keys r, k and endofline  \n",
    "key.press_and_release('shift + r, shift + k, \\n') \n",
    "key.press_and_release('R, K') \n",
    "\n",
    "# it blocks until ctrl is pressed, it's like the key ctrl is pressed all the time til' you press it again\n",
    "key.wait('Ctrl') "
   ]
  },
  {
   "cell_type": "markdown",
   "metadata": {},
   "source": [
    "# Keyboard Control functions\n",
    "### The write() Function\n",
    "The primary keyboard function is `write()`. This function will type the characters in the string that is passed. To add a delay interval in between pressing eao ch character key, pass an int or float for the `delay` keyword argument. You can only press single-character keys with `write()`RK\n",
    "rk, so you can’t press the Shift or F1 keys, for example."
   ]
  },
  {
   "cell_type": "code",
   "execution_count": 3,
   "metadata": {},
   "outputs": [],
   "source": [
    "import keyboard as keyo \n",
    "key.write(\"Hello world!\", delay=0.5) # prints out \"Hello world!\" instantly"
   ]
  },
  {
   "cell_type": "markdown",
   "metadata": {},
   "source": [
    "### The press(), keyDown(), and keyUp() Functions\n",
    "To press these keys, call the `press()` function and pass it a string from the `pyautogui.KEYBOARD_KEYS` such as `enter`, `esc`, `f1`"
   ]
  },
  {
   "cell_type": "code",
   "execution_count": 3,
   "metadata": {},
   "outputs": [],
   "source": [
    "import keyboard as key\n",
    "key.press('enter')  # press the Enter key\n",
    "key.press('f1')     # press the F1 key\n",
    "key.press('left')   # press the left arrow key"
   ]
  },
  {
   "cell_type": "markdown",
   "metadata": {},
   "source": [
    "The `press()` function is really just a wrapper for the `keyDown()` and `keyUp()` functions, which simulate pressing a key down and then releasing it up. These functions can be called by themselves. For example, to **press the left arrow key three times while holding down the Shift key**"
   ]
  },
  {
   "cell_type": "code",
   "execution_count": 8,
   "metadata": {},
   "outputs": [
    {
     "ename": "TypeError",
     "evalue": "'str' object is not callable",
     "output_type": "error",
     "traceback": [
      "\u001b[1;31m---------------------------------------------------------------------------\u001b[0m",
      "\u001b[1;31mTypeError\u001b[0m                                 Traceback (most recent call last)",
      "\u001b[1;32m<ipython-input-8-7a59c4d7d6a9>\u001b[0m in \u001b[0;36m<module>\u001b[1;34m\u001b[0m\n\u001b[0;32m      1\u001b[0m \u001b[1;32mimport\u001b[0m \u001b[0mkeyboard\u001b[0m \u001b[1;32mas\u001b[0m \u001b[0mkey\u001b[0m\u001b[1;33m\u001b[0m\u001b[1;33m\u001b[0m\u001b[0m\n\u001b[1;32m----> 2\u001b[1;33m \u001b[0mkey\u001b[0m\u001b[1;33m.\u001b[0m\u001b[0mKEY_DOWN\u001b[0m\u001b[1;33m(\u001b[0m\u001b[1;34m'shift'\u001b[0m\u001b[1;33m)\u001b[0m\u001b[1;33m\u001b[0m\u001b[1;33m\u001b[0m\u001b[0m\n\u001b[0m\u001b[0;32m      3\u001b[0m \u001b[0mkey\u001b[0m\u001b[1;33m.\u001b[0m\u001b[0mpress\u001b[0m\u001b[1;33m(\u001b[0m\u001b[1;34m'left'\u001b[0m\u001b[1;33m)\u001b[0m\u001b[1;33m\u001b[0m\u001b[1;33m\u001b[0m\u001b[0m\n\u001b[0;32m      4\u001b[0m \u001b[0mkey\u001b[0m\u001b[1;33m.\u001b[0m\u001b[0mpress\u001b[0m\u001b[1;33m(\u001b[0m\u001b[1;34m'left'\u001b[0m\u001b[1;33m)\u001b[0m\u001b[1;33m\u001b[0m\u001b[1;33m\u001b[0m\u001b[0m\n\u001b[0;32m      5\u001b[0m \u001b[0mkey\u001b[0m\u001b[1;33m.\u001b[0m\u001b[0mpress\u001b[0m\u001b[1;33m(\u001b[0m\u001b[1;34m'left'\u001b[0m\u001b[1;33m)\u001b[0m\u001b[1;33m\u001b[0m\u001b[1;33m\u001b[0m\u001b[0m\n",
      "\u001b[1;31mTypeError\u001b[0m: 'str' object is not callable"
     ]
    }
   ],
   "source": [
    "import keyboard as key\n",
    "key.KEY_DOWN('shift')\n",
    "key.press('left')\n",
    "key.press('left')\n",
    "key.press('left')\n",
    "key.KEY_UP('shift')"
   ]
  },
  {
   "cell_type": "markdown",
   "metadata": {},
   "source": [
    "# Handling the keyboard\n",
    "The package `pynput.keyboard` contains classes for controlling and monitoring the keyboard."
   ]
  }
 ],
 "metadata": {
  "kernelspec": {
   "display_name": "Python 3",
   "language": "python",
   "name": "python3"
  },
  "language_info": {
   "codemirror_mode": {
    "name": "ipython",
    "version": 3
   },
   "file_extension": ".py",
   "mimetype": "text/x-python",
   "name": "python",
   "nbconvert_exporter": "python",
   "pygments_lexer": "ipython3",
   "version": "3.7.1"
  }
 },
 "nbformat": 4,
 "nbformat_minor": 2
}
