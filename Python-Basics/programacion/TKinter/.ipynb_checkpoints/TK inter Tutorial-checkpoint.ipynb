{
 "cells": [
  {
   "cell_type": "markdown",
   "metadata": {},
   "source": [
    "# TKinter Tutorial\n",
    "primero que nada, como en todos los modulos de python, tenemos que importar los modulos. Crearemos una ventana Basica y pondremos un titulo.\n",
    "Podemos ver que asignamos la `class` Tkinter a una variables, de esta forma esta variable odra acceder a los atributos de TKinter"
   ]
  },
  {
   "cell_type": "code",
   "execution_count": 4,
   "metadata": {},
   "outputs": [],
   "source": [
    "from tkinter import *\n",
    "\n",
    "window = Tk()# en esta variable se guardan los formatos de TKinter\n",
    "\n",
    "window.title(\"Welcome to TKinter\")# usaremos nuestra variable para acceder a los atributos de TKinter\n",
    "\n",
    "window.mainloop()# bucle infinito para hacer que la ventana se quede y salga hasta un condicion dada"
   ]
  },
  {
   "cell_type": "markdown",
   "metadata": {},
   "source": [
    "## Creacion de un widget label (Etiqueta)\n",
    "Para agregar un widget usaremos la clase `label` de la siguiente forma, la label widget es normalmente usada para mostrar texto o imagenes, solo puede mostrar texto con una sola fuente pero este puede ocupar mas de una linea. sino especificas el ancho o alto TKinter pondra por defecto las medidas necesarias para que el contenido quepa. Podemos especificar la fuente `font`, `bg` el backgeound, `fg` foreground, etc.\n",
    "### Syntax Widget Label\n",
    "~~~\n",
    "Label(master=None, **options)\n",
    "~~~\n",
    "`master` es la variable a la que asignamos la clase Tk().\n",
    "`options` las caracteristicas que queremos que tenga nuestra etiqueta.\n",
    "### Patrones\n",
    "_Especificando: Foreground y Fuente_\n",
    "~~~\n",
    "w = Label(master, text=\"Rouge\", fg=\"red\")\n",
    "w = Label(master, text=\"Helvetica\", font=(\"Helvetica\", 16))\n",
    "~~~\n",
    "_Multiples lineas de texto:_ \n",
    "~~~\n",
    "w = Label(master, text=longtext, anchor=W, justify=LEFT)\n",
    "~~~\n",
    "_Añadir una imagen:_\n",
    "~~~\n",
    "photo = PhotoImage(file=\"icon.gif\")\n",
    "w = Label(parent, image=photo)\n",
    "w.photo = photo\n",
    "w.pack()\n",
    "~~~\n",
    "_Establecer el tamaño de fuente de la etiqueta_\n",
    "~~~\n",
    "lbl = Label(window, text=\"Hello\", font=(\"Arial Bold\", 50))\n",
    "~~~\n",
    "### Opciones\n",
    "background=\n",
    "* The background color. The default is platform specific.\n",
    "\n",
    "bg=\n",
    "* Same as **background**.\n",
    "\n",
    "borderwidth=\n",
    "* The width of the label border. The default is system specific, but is usually one or two pixels.\n",
    "\n",
    "bd=\n",
    "* Same as borderwidth.\n",
    "\n",
    "font=\n",
    "* The font to use in the label. The label can only contain text in single font. The default is system specific. \n",
    "\n",
    "foreground=\n",
    "* The label color, used for for text and bitmap labels. The default is system specific. \n",
    "\n",
    "fg=\n",
    "* Same as **foreground.**\n",
    "\n",
    "height=\n",
    "* The height of the label. If the label displays text, the size is given in text units. If the label displays an image, the size is given in pixels\n",
    "\n",
    "justify=\n",
    "* Defines how to align multiple lines of text. Use **LEFT**, **RIGHT**, or **CENTER**.\n",
    "\n",
    "text=\n",
    "* The text to display in the label. \n",
    "\n",
    "width=\n",
    "* The width of the label. If the label displays text, the size is given in text units."
   ]
  },
  {
   "cell_type": "code",
   "execution_count": 7,
   "metadata": {},
   "outputs": [],
   "source": [
    "from tkinter import *\n",
    "window = Tk()\n",
    "window.title(\"Pruebas con TKinter\")\n",
    "# agregamos la label\n",
    "widget = Label(window, text=\"Hello\", font=(\"Arial Bold\", 50))\n",
    "# ponemos la posicion \n",
    "widget.grid(column=0, row=0)\n",
    "window.mainloop()"
   ]
  },
  {
   "cell_type": "code",
   "execution_count": 6,
   "metadata": {},
   "outputs": [],
   "source": [
    "# Uso de grid en un pequeño formulario\n",
    "from tkinter import *\n",
    "\n",
    "root = Tk()\n",
    "\n",
    "Label(root, text=\"Nombre:\").grid(pady=5, row=0, column=0)\n",
    "Label(root, text=\"Apellido:\").grid( pady=5, row=1, column=0)\n",
    "\n",
    "Entry(root, width=40).grid(padx=5, row=0, column=1)\n",
    "Entry(root, width=40).grid(padx=5, row=1, column=1)\n",
    "\n",
    "Button(root, text=\"Aceptar\", width=50).grid(padx=10, pady=10, row=2, column=0, columnspan=2)\n",
    "\n",
    "root.mainloop()"
   ]
  },
  {
   "cell_type": "markdown",
   "metadata": {},
   "source": [
    "### Establecer el tamaño de una ventana\n",
    "Para hacer esto usamos la funcion `geometry` por ejemplo: `root.geometry('350x200')` "
   ]
  },
  {
   "cell_type": "code",
   "execution_count": 11,
   "metadata": {},
   "outputs": [],
   "source": [
    "from tkinter import*\n",
    "root = Tk()\n",
    "root.title(\"Tamaño Ventana\")\n",
    "root.geometry('500x500')\n",
    "msg = Label(root, text=\"Hemos cambiado el tamaño con Geometry\", fg=\"blue\")\n",
    "msg.grid(row=1, column=1)\n",
    "root.mainloop()"
   ]
  },
  {
   "cell_type": "markdown",
   "metadata": {},
   "source": [
    "### Agregar un widget button\n",
    "Los botones se agregan a la ventana de la misma manera quela etiqueta, usamos la siguente sintaxis:"
   ]
  },
  {
   "cell_type": "code",
   "execution_count": 14,
   "metadata": {},
   "outputs": [],
   "source": [
    "from tkinter import *\n",
    "root = Tk()\n",
    "root.title(\"Agregamos un boton\")\n",
    "boton = Button(root, text=\"Click aqui!\", fg=\"white\", bg=\"black\")\n",
    "# al igual que una etiqueta, tenemos que darle una posicion con grid\n",
    "boton.grid(row=0, column=0)\n",
    "root.mainloop()"
   ]
  },
  {
   "cell_type": "markdown",
   "metadata": {},
   "source": [
    "### Manejar el evento Click de un Botón\n",
    "El primer paso para hacer esto es definir la funcion `clicked()`dentro de esta pondremos como una label nueva pero con la clase `configure` para que cuendo le den click al boton se imprima, Luego dentro de la etiqueta boton añadiremos un nuevo atributo llamado `command` que hara referencia a la funcion."
   ]
  },
  {
   "cell_type": "code",
   "execution_count": 17,
   "metadata": {},
   "outputs": [],
   "source": [
    "# Programa completo con los otros apatados\n",
    "from tkinter import *\n",
    "root = Tk()\n",
    "root.title(\"Prueba Todo\")\n",
    "root.geometry('500x300')\n",
    "\n",
    "saludo = Label(root, text=\"Hola Como estas?\", fg=\"red\", bg=\"black\")\n",
    "saludo.grid(row=0, column=0)\n",
    "\n",
    "# uncion de evento boton \n",
    "def clicked():\n",
    "    saludo.configure(text=\"Has hecho click en el Boton Bro!\")\n",
    "boton = Button(root, text=\"Click Aqui!\", bg='green', fg='white', command=clicked)\n",
    "boton.grid(row=0, column=1)\n",
    "\n",
    "root.mainloop()"
   ]
  },
  {
   "cell_type": "markdown",
   "metadata": {},
   "source": [
    "### Entrada de datos usando la clase Entry (Tkinter textbox)\n",
    "Para hacer esto usamos la funcion `Entry` Por ejemplo: **txt = Entry(window,width=10)** tal como los widgets tenemos que ponerlo en una posicion usando grid"
   ]
  },
  {
   "cell_type": "code",
   "execution_count": 18,
   "metadata": {},
   "outputs": [],
   "source": [
    "from tkinter import *\n",
    "root = Tk()\n",
    "root.title(\"Entrada de datos\")\n",
    "root.geometry('500x300')\n",
    "datos = Entry(root, width=30)\n",
    "datos.grid(row=0, column=0)\n",
    "root.mainloop()"
   ]
  },
  {
   "cell_type": "markdown",
   "metadata": {},
   "source": [
    "### Que tal si mostramos lo que se escribe cuando le damos click al boton\n",
    "para hacer esto debemos hacer algunos cambios en la funcion clicked, es importante saber que podemos obtener el texto ingresado usando la funcion `get` y la variable donde guardamos el Entry Pej: `txt.get()`"
   ]
  },
  {
   "cell_type": "code",
   "execution_count": 22,
   "metadata": {},
   "outputs": [],
   "source": [
    "from tkinter import *\n",
    "root = Tk()\n",
    "root.title(\"Prueba Todo\")\n",
    "root.geometry('500x300')\n",
    "\n",
    "saludo = Label(root, text=\"Hola Como estas?\", fg=\"red\", bg=\"black\")\n",
    "saludo.grid(row=0, column=0)\n",
    "\n",
    "text = Entry(root, width=10)\n",
    "text.grid(row=0, column=1)\n",
    "# uncion de evento boton \n",
    "def clicked():\n",
    "    aws = \"Has introducido\\t\" + text.get()\n",
    "    saludo.configure(text=aws)\n",
    "    \n",
    "boton = Button(root, text=\"Click Aqui!\", bg='green', fg='white', command=clicked)\n",
    "boton.grid(row=0, column=2)\n",
    "\n",
    "root.mainloop()"
   ]
  },
  {
   "cell_type": "code",
   "execution_count": null,
   "metadata": {},
   "outputs": [],
   "source": []
  }
 ],
 "metadata": {
  "kernelspec": {
   "display_name": "Python 3",
   "language": "python",
   "name": "python3"
  },
  "language_info": {
   "codemirror_mode": {
    "name": "ipython",
    "version": 3
   },
   "file_extension": ".py",
   "mimetype": "text/x-python",
   "name": "python",
   "nbconvert_exporter": "python",
   "pygments_lexer": "ipython3",
   "version": "3.7.1"
  }
 },
 "nbformat": 4,
 "nbformat_minor": 2
}
