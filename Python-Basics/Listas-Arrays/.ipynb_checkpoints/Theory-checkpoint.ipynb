{
 "cells": [
  {
   "cell_type": "markdown",
   "metadata": {},
   "source": [
    "# Python List/Array Theory and Useful Examples \n",
    "\n",
    "[W3Schools Python List Tutorial](https://www.w3schools.com/python/python_lists.asp)\n",
    "\n",
    "---\n",
    "\n",
    "## List\n",
    "\n",
    "Lists are used to store multiple items in a single variable.\n",
    "\n",
    "Lists are one of 4 built-in data types in Python used to store collections of data, the other 3 are Tuple, Set, and Dictionary, all with different qualities and usage.\n",
    "\n",
    "Lists are created using square brackets: \n",
    "\n",
    "```python\n",
    "thislist = [\"apple\", \"banana\", \"cherry\"]\n",
    "print(thislist)\n",
    "```\n"
   ]
  },
  {
   "cell_type": "code",
   "execution_count": null,
   "metadata": {},
   "outputs": [],
   "source": [
    "mylist = [\"Tomate\",\"Pimiento\",\"Banana\"] # Create the variable 'mylist' that is a list \n",
    "print(mylist)"
   ]
  },
  {
   "cell_type": "markdown",
   "metadata": {},
   "source": [
    "## List Items\n",
    "\n",
    "___\n",
    "\n",
    "List items are **ordered, changeable, and allow duplicate values.**\n",
    "\n",
    "List items are indexed, the first item has index `[0]`, the second item has index `[1]` etc.\n",
    "\n"
   ]
  },
  {
   "cell_type": "code",
   "execution_count": null,
   "metadata": {},
   "outputs": [],
   "source": [
    "mylist = [\"Tomate\",\"Pimiento\",\"Banana\"] # There are 3 items inside the list, items 0,1,2. We start the count in 0 and so on \n",
    "\n",
    "# Acces the items inside the list using the idex method \n",
    "\n",
    "print(mylist[0])\n",
    "print(mylist[1])\n",
    "print(mylist[2])"
   ]
  },
  {
   "cell_type": "markdown",
   "metadata": {},
   "source": [
    "## Ordered\n",
    "\n",
    "***\n",
    "\n",
    "> When we say that lists are ordered, it means that the items have a defined order, and that order will not change.\n",
    "\n",
    "> If you add new items to a list, the new items will be placed at the end of the list.\n",
    "\n",
    "***\n",
    "\n",
    "## Python - List Methods\n",
    "\n",
    "> Python has a set of built-in methods that you can use on lists.\n",
    "\n",
    "| Method       | Description  |\n",
    "| ------------ | ------------ |\n",
    "| append()     | Adds an element at the end of the list |\n",
    "| clear()      | Removes all the elements from the list |\n",
    "| copy()       | Returns a copy of the list |\n",
    "| count()      | Returns the number of elements with the specified value |\n",
    "| extend()     | Add the elements of a list (or any iterable), to the end of the current list |\n",
    "| index()      | Returns the index of the first element with the specified value |\n",
    "| insert()     | Adds an element at the specified position |\n",
    "| pop()        | Removes the element at the specified position |\n",
    "| remove()     | Removes the item with the specified value |\n",
    "| reverse()    | Reverses the order of the list |\n",
    "| sort()       | Sorts the list |\n",
    "\n",
    "***\n",
    "\n",
    "> ___The syntax for this methods is the same in almost all cases `list.method(pos, \"element\")`___\n",
    "\n",
    "\n",
    "\n"
   ]
  },
  {
   "cell_type": "code",
   "execution_count": null,
   "metadata": {},
   "outputs": [],
   "source": [
    "# Add an element to the fruits list: Append()\n",
    "\n",
    "fruits = ['apple', 'banana', 'cherry']\n",
    "print(\"Original list ==> \", fruits)\n",
    "fruits.append(\"orange\")\n",
    "\n",
    "print(\"New list ==>\", fruits)\n",
    "\n",
    "# Add a list to a list:\n",
    "\n",
    "a = [\"apple\", \"banana\", \"cherry\"]\n",
    "b = [\"Ford\", \"BMW\", \"Volvo\"]\n",
    "a.append(b)"
   ]
  },
  {
   "cell_type": "markdown",
   "metadata": {},
   "source": [
    "## Lets see useful list methods in python \n",
    "\n",
    "***\n"
   ]
  },
  {
   "cell_type": "code",
   "execution_count": null,
   "metadata": {},
   "outputs": [],
   "source": [
    "# Python List index() Method\n",
    "# syntax list.idex(\"value\")\n",
    "fruits = ['apple', 'banana', 'cherry']\n",
    "\n",
    "x = fruits.index(\"cherry\") # Return of the element specified\n",
    "print(x)"
   ]
  },
  {
   "cell_type": "code",
   "execution_count": null,
   "metadata": {},
   "outputs": [],
   "source": [
    "# Python List insert() Method\n",
    "# Syntax list.insert(pos, \"value\")\n",
    "fruits = ['apple', 'banana', 'cherry']\n",
    "\n",
    "fruits.insert(1, \"orange\") # Insert the value \"orange\" as the second element of the fruit list:\n",
    "print(fruits)"
   ]
  },
  {
   "cell_type": "code",
   "execution_count": null,
   "metadata": {},
   "outputs": [],
   "source": [
    "# Python List pop() Method\n",
    "fruits = ['apple', 'banana', 'cherry']\n",
    "# Syntax list.pop(pos)\n",
    "\n",
    "fruits.pop(1) # Remove the second element of the fruit list:"
   ]
  },
  {
   "cell_type": "code",
   "execution_count": null,
   "metadata": {},
   "outputs": [],
   "source": [
    "# Python List remove() Method\n",
    "# syntax list.remove(elmnt)\n",
    "\n",
    "fruits = ['apple', 'banana', 'cherry']\n",
    "\n",
    "fruits.remove(\"banana\") # Remove the \"banana\" element of the fruit list:\n"
   ]
  },
  {
   "cell_type": "markdown",
   "metadata": {},
   "source": [
    "## The following tow mwthods are very important `list.sort()` and `list.reverse()` \n",
    "\n",
    "> In python exists these methods but we are gonna learn how to get the same results using `for` loops\n",
    "\n",
    "***\n",
    "\n"
   ]
  },
  {
   "cell_type": "code",
   "execution_count": null,
   "metadata": {},
   "outputs": [],
   "source": [
    "# Python List sort() Method\n",
    "# syntax list.sort(reverse=True|False, key=myFunc)\n",
    "cars = ['Ford', 'BMW', 'Volvo']\n",
    "\n",
    "cars.sort()"
   ]
  },
  {
   "cell_type": "markdown",
   "metadata": {},
   "source": [
    "### Definition and Usage\n",
    "\n",
    "***\n",
    "\n",
    "\n",
    "The `sort()` method sorts the list ascending by default.\n",
    "\n",
    "You can also make a function to decide the sorting criteria(s)."
   ]
  },
  {
   "cell_type": "code",
   "execution_count": null,
   "metadata": {},
   "outputs": [],
   "source": [
    "# Sort the list descending:\n",
    "\n",
    "cars = ['Ford', 'BMW', 'Volvo']\n",
    "\n",
    "cars.sort(reverse=True)"
   ]
  },
  {
   "cell_type": "markdown",
   "metadata": {},
   "source": [
    "### Lets do it with simple code\n",
    "\n",
    "***\n"
   ]
  },
  {
   "cell_type": "code",
   "execution_count": 12,
   "metadata": {},
   "outputs": [
    {
     "name": "stdout",
     "output_type": "stream",
     "text": [
      "[1, 4, 5, 5, 7, 7, 9]\n"
     ]
    }
   ],
   "source": [
    "mylist = [1,7,4,9,5,7,5]\n",
    "mylist.sort() # using sort() method\n",
    "print(mylist)"
   ]
  },
  {
   "cell_type": "code",
   "execution_count": 1,
   "metadata": {},
   "outputs": [
    {
     "name": "stdout",
     "output_type": "stream",
     "text": [
      "[1, 4, 5, 5, 7, 7, 9]\n"
     ]
    }
   ],
   "source": [
    "mylist = [1,7,4,9,5,7,5]\n",
    "\n",
    "for recorrido in range (1, len(mylist)):\n",
    "    for posicion in range (len(mylist)-recorrido):\n",
    "        if mylist[posicion] > mylist[posicion+1]:\n",
    "            temp = mylist[posicion]\n",
    "            mylist[posicion] = mylist[posicion+1]\n",
    "            mylist[posicion+1]=temp\n",
    "        \n",
    "print(mylist)\n"
   ]
  },
  {
   "cell_type": "code",
   "execution_count": null,
   "metadata": {},
   "outputs": [],
   "source": []
  }
 ],
 "metadata": {
  "kernelspec": {
   "display_name": "Python 3",
   "language": "python",
   "name": "python3"
  },
  "language_info": {
   "codemirror_mode": {
    "name": "ipython",
    "version": 3
   },
   "file_extension": ".py",
   "mimetype": "text/x-python",
   "name": "python",
   "nbconvert_exporter": "python",
   "pygments_lexer": "ipython3",
   "version": "3.8.5"
  }
 },
 "nbformat": 4,
 "nbformat_minor": 2
}
