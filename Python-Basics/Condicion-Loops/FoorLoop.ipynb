{
 "metadata": {
  "language_info": {
   "codemirror_mode": {
    "name": "ipython",
    "version": 3
   },
   "file_extension": ".py",
   "mimetype": "text/x-python",
   "name": "python",
   "nbconvert_exporter": "python",
   "pygments_lexer": "ipython3",
   "version": "3.8.5-final"
  },
  "orig_nbformat": 2,
  "kernelspec": {
   "name": "python3",
   "display_name": "Python 3",
   "language": "python"
  }
 },
 "nbformat": 4,
 "nbformat_minor": 2,
 "cells": [
  {
   "source": [
    "# Python For Loops\n",
    "\n",
    "***\n",
    "\n",
    "A for loop is used for iterating over a sequence (that is either a list, a tuple, a dictionary, a set, or a string).\n",
    "\n",
    "This is less like the for keyword in other programming languages, and works more like an iterator method as found in other object-orientated programming languages.\n",
    "\n",
    "With the for loop we can execute a set of statements, once for each item in a list, tuple, set etc.\n",
    "\n",
    "### Example\n",
    "> Print each fruit in a fruit list:\n",
    "\n",
    "```python\n",
    "fruits = [\"apple\", \"banana\", \"cherry\"]\n",
    "for x in fruits:\n",
    "  print(x)\n",
    "```\n",
    "\n",
    ">Loop through the letters in the word \"banana\":\n",
    "\n",
    "```python\n",
    "for x in \"banana\":\n",
    "  print(x)\n",
    "```"
   ],
   "cell_type": "markdown",
   "metadata": {}
  },
  {
   "cell_type": "code",
   "execution_count": null,
   "metadata": {},
   "outputs": [],
   "source": [
    "for _ in range(10): # we use underscore when we won't be doing nothing with index loop\n",
    "     print(\"Hello world\")"
   ]
  },
  {
   "source": [
    "# The break Statement \n",
    "\n",
    "***\n",
    "\n",
    "With the `break` statement we can stop the loop before it has looped through all the items:\n",
    "\n",
    "### Example \n",
    "\n",
    "> Exit the loop when x is \"banana\":\n",
    "\n",
    "```python\n",
    "fruits = [\"apple\", \"banana\", \"cherry\"]\n",
    "for x in fruits:\n",
    "  print(x)\n",
    "  if x == \"banana\":\n",
    "    break\n",
    "```\n"
   ],
   "cell_type": "markdown",
   "metadata": {}
  },
  {
   "source": [
    "# The continue Statement\n",
    "\n",
    "***\n",
    "\n",
    "With the continue statement we can stop the current iteration of the loop, and continue with the next:\n",
    "\n",
    "### Example \n",
    "\n",
    "> Do not print banana:\n",
    "\n",
    "```python\n",
    "fruits = [\"apple\", \"banana\", \"cherry\"]\n",
    "for x in fruits:\n",
    "  if x == \"banana\":\n",
    "    continue\n",
    "  print(x)\n",
    "```\n"
   ],
   "cell_type": "markdown",
   "metadata": {}
  },
  {
   "source": [
    "# Else in For Loop\n",
    "\n",
    "***\n",
    "\n",
    "The else keyword in a for loop specifies a block of code to be executed when the loop is finished:\n",
    "\n",
    "### Example\n",
    "\n",
    "> Print all numbers from 0 to 5, and print a message when the loop has ended:\n",
    "\n",
    "```python\n",
    "for x in range(6):\n",
    "  print(x)\n",
    "else:\n",
    "  print(\"Finally finished!\")\n",
    "```\n",
    "---\n",
    "\n",
    "**Note:** The else block will NOT be executed if the loop is stopped by a break statement.\n",
    "\n",
    "### Example\n",
    "\n",
    "\n",
    "> Break the loop when x is 3, and see what happens with the else block:\n",
    "\n",
    "```python\n",
    "for x in range(6):\n",
    "  if x == 3: break\n",
    "  print(x)\n",
    "else:\n",
    "  print(\"Finally finished!\")\n",
    "```"
   ],
   "cell_type": "markdown",
   "metadata": {}
  },
  {
   "source": [
    "# Nested Loops\n",
    "\n",
    "---\n",
    "\n",
    "A nested loop is a loop inside a loop.\n",
    "\n",
    "The \"inner loop\" will be executed one time for each iteration of the \"outer loop\":\n",
    "\n",
    "### Example\n",
    "\n",
    "> Print each adjective for every fruit:\n",
    "\n",
    "```python\n",
    "adj = [\"red\", \"big\", \"tasty\"]\n",
    "fruits = [\"apple\", \"banana\", \"cherry\"]\n",
    "\n",
    "for x in adj:\n",
    "  for y in fruits:\n",
    "    print(x, y)\n",
    "```"
   ],
   "cell_type": "markdown",
   "metadata": {}
  },
  {
   "source": [
    "# Arrays sum with For loop\n",
    "\n",
    "---\n",
    "\n"
   ],
   "cell_type": "markdown",
   "metadata": {}
  },
  {
   "cell_type": "code",
   "execution_count": null,
   "metadata": {},
   "outputs": [],
   "source": [
    "v1 = [1,2,3]\n",
    "v2 = [4,5,6]\n",
    "vsuma = []\n",
    "# in this case the two lists/vector have the same length\n",
    "for i in range(len(v1)):\n",
    "    vsuma.append(v1[i] + v2[i])\n",
    "print(vsuma)"
   ]
  },
  {
   "source": [
    "# Python output patterns with for loop\n",
    "\n",
    "***"
   ],
   "cell_type": "markdown",
   "metadata": {}
  },
  {
   "cell_type": "code",
   "execution_count": null,
   "metadata": {},
   "outputs": [],
   "source": [
    "    # outer loop to handle number of rows\n",
    "    # n in this case\n",
    "    for i in range(0, 5):\n",
    "        # inner loop to handle number of columns\n",
    "        # values changing acc. to outer loop\n",
    "        for j in range(0, i+1):\n",
    "            # printing stars\n",
    "            print(\"* \",end=\"\")\n",
    "        # ending line after each row\n",
    "        print(\"\\r\")"
   ]
  },
  {
   "cell_type": "code",
   "execution_count": null,
   "metadata": {},
   "outputs": [],
   "source": [
    "# Python 3.x code to demonstrate star pattern\n",
    "# Function to demonstrate printing pattern triangle\n",
    "def triangle(n):\n",
    "    # number of spaces\n",
    "    k = n - 1\n",
    "    # outer loop to handle number of rows\n",
    "    for i in range(0, n):\n",
    "        # inner loop to handle number spaces\n",
    "        # values changing acc. to requirement\n",
    "        for j in range(0, k):\n",
    "            print(end=\" \")\n",
    "        # decrementing k after each loop\n",
    "        k = k - 1\n",
    "        # inner loop to handle number of columns\n",
    "        # values changing acc. to outer loop\n",
    "        for j in range(0, i+1):\n",
    "            # printing stars\n",
    "            print(\"* \", end=\"\")\n",
    "        # ending line after each row\n",
    "        print(\"\\r\")\n",
    "# Driver Code\n",
    "n = 5\n",
    "triangle(n)"
   ]
  },
  {
   "cell_type": "code",
   "execution_count": null,
   "metadata": {},
   "outputs": [],
   "source": []
  }
 ]
}