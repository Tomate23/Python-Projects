{
 "metadata": {
  "language_info": {
   "codemirror_mode": {
    "name": "ipython",
    "version": 3
   },
   "file_extension": ".py",
   "mimetype": "text/x-python",
   "name": "python",
   "nbconvert_exporter": "python",
   "pygments_lexer": "ipython3",
   "version": "3.8.5-final"
  },
  "orig_nbformat": 2,
  "kernelspec": {
   "name": "python3",
   "display_name": "Python 3",
   "language": "python"
  }
 },
 "nbformat": 4,
 "nbformat_minor": 2,
 "cells": [
  {
   "source": [
    "# Python If ... Else Conditions\n",
    "\n",
    "<img width=\"100\" height=\"100\" src=\"https://raw.githubusercontent.com/Tomate23/Images/7a904ed477ddfc65052cb4a98fb803c5ab3d00ec/python-powered-w.svg\" alt=\"Weather free icon\">\n",
    "<img width=\"500\" height=\"250\" src=\"https://cdn.educba.com/academy/wp-content/uploads/2019/09/If-Else-in-Python.jpg\" alt=\"Python free icon\">\n",
    "\n",
    "---\n",
    "\n",
    "## Python Conditions and If statements\n",
    "Python supports the usual logical conditions from mathematics:\n",
    "\n",
    "Equals: ``a == b``\n",
    "\n",
    "Not Equals: ``a != b``\n",
    "\n",
    "Less than: ``a < b``\n",
    "\n",
    "Less than or equal to: ``a <= b``\n",
    "\n",
    "Greater than: ``a > b``\n",
    "\n",
    "Greater than or equal to: ``a >= b`` \n",
    "\n",
    "These conditions can be used in several ways, most commonly in \"if statements\" and loops.\n",
    "\n",
    "An \"if statement\" is written by using the ``if`` keyword.\n",
    "\n",
    "```python\n",
    "a = 33\n",
    "b = 200\n",
    "if b > a:\n",
    "  print(\"b is greater than a\")\n",
    "```\n"
   ],
   "cell_type": "markdown",
   "metadata": {}
  },
  {
   "source": [
    "## Elif\n",
    "\n",
    "---\n",
    "\n",
    "The elif keyword is pythons way of saying \"if the previous conditions were not true, then try this condition\".\n",
    "\n",
    "```python\n",
    "a = 33\n",
    "b = 33\n",
    "if b > a:\n",
    "  print(\"b is greater than a\")\n",
    "elif a == b:\n",
    "  print(\"a and b are equal\")\n",
    "```"
   ],
   "cell_type": "markdown",
   "metadata": {}
  },
  {
   "source": [
    "## Else\n",
    "\n",
    "---\n",
    "\n",
    "The else keyword catches anything which isn't caught by the preceding conditions.\n",
    "\n",
    "### Example\n",
    "```\n",
    "a = 200\n",
    "b = 33\n",
    "if b > a:\n",
    "  print(\"b is greater than a\")\n",
    "elif a == b:\n",
    "  print(\"a and b are equal\")\n",
    "else:\n",
    "  print(\"a is greater than b\")\n",
    "```"
   ],
   "cell_type": "markdown",
   "metadata": {}
  },
  {
   "source": [
    "## Short Hand If\n",
    "\n",
    "---\n",
    "\n",
    "If you have only one statement to execute, you can put it on the same line as the if statement."
   ],
   "cell_type": "markdown",
   "metadata": {}
  },
  {
   "cell_type": "code",
   "execution_count": 1,
   "metadata": {},
   "outputs": [
    {
     "output_type": "stream",
     "name": "stdout",
     "text": [
      "a is greater than b\n"
     ]
    }
   ],
   "source": [
    "a = 200\n",
    "b = 33\n",
    "if a > b: print(\"a is greater than b\")"
   ]
  },
  {
   "cell_type": "code",
   "execution_count": 2,
   "metadata": {},
   "outputs": [
    {
     "output_type": "stream",
     "name": "stdout",
     "text": [
      "that is > 6\n"
     ]
    }
   ],
   "source": [
    "vector = [1,2,3,4,5]\n",
    "for i in range(len(vector)):\n",
    "    if i == 3: print(f\"that is > {i*2}\") "
   ]
  },
  {
   "cell_type": "code",
   "execution_count": 3,
   "metadata": {},
   "outputs": [
    {
     "output_type": "stream",
     "name": "stdout",
     "text": [
      "0\n1\n2 Is 2\n3\n4\n"
     ]
    }
   ],
   "source": [
    "vector = [1,2,3,4,5]\n",
    "x = 0\n",
    "while x != len(vector):\n",
    "    print(x) if x != 2 else print(f\"{x} Is 2\")\n",
    "    x += 1"
   ]
  },
  {
   "source": [
    "## Short Hand If ... Else\n",
    "\n",
    "---\n",
    "\n",
    "If you have only one statement to execute, one for if, and one for else, you can put it all on the same line:"
   ],
   "cell_type": "markdown",
   "metadata": {}
  },
  {
   "cell_type": "code",
   "execution_count": 4,
   "metadata": {},
   "outputs": [
    {
     "output_type": "stream",
     "name": "stdout",
     "text": [
      "B\n"
     ]
    }
   ],
   "source": [
    "a = 2\n",
    "b = 330\n",
    "print(\"A\") if a > b else print(\"B\")"
   ]
  },
  {
   "cell_type": "code",
   "execution_count": 5,
   "metadata": {},
   "outputs": [
    {
     "output_type": "stream",
     "name": "stdout",
     "text": [
      "B\n"
     ]
    }
   ],
   "source": [
    "# More examples of ternaty operators\n",
    "#You can also have multiple else statements on the same line:\n",
    "\n",
    "#Example\n",
    "#One line if else statement, with 3 conditions:\n",
    "\n",
    "a = 331\n",
    "b = 394\n",
    "print(\"A\") if a > b else print(\"=\") if a == b else print(\"B\")"
   ]
  },
  {
   "cell_type": "code",
   "execution_count": 6,
   "metadata": {},
   "outputs": [
    {
     "output_type": "stream",
     "name": "stdout",
     "text": [
      "It's 5\n"
     ]
    }
   ],
   "source": [
    "# We can use this syntax inside the print()\n",
    "x = 5\n",
    "print(\"It's 5\" if x == 5 else \"ain't 5\")"
   ]
  },
  {
   "cell_type": "code",
   "execution_count": 7,
   "metadata": {},
   "outputs": [
    {
     "output_type": "stream",
     "name": "stdout",
     "text": [
      "4\n"
     ]
    }
   ],
   "source": [
    "# Decrement -1 to x if it's grater than 0\n",
    "x = 5\n",
    "x-=1 if x>0 else x\n",
    "print(x)"
   ]
  },
  {
   "source": [
    "## The pass Statement\n",
    "\n",
    "---\n",
    "\n",
    "``if`` statements cannot be empty, but if you for some reason have an if statement with no content, put in the ``pass`` statement to avoid getting an error."
   ],
   "cell_type": "markdown",
   "metadata": {}
  },
  {
   "cell_type": "code",
   "execution_count": 8,
   "metadata": {},
   "outputs": [],
   "source": [
    "a = 33\n",
    "b = 200\n",
    "\n",
    "if b > a:\n",
    "  pass"
   ]
  }
 ]
}