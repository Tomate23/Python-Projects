{
 "metadata": {
  "language_info": {
   "codemirror_mode": {
    "name": "ipython",
    "version": 3
   },
   "file_extension": ".py",
   "mimetype": "text/x-python",
   "name": "python",
   "nbconvert_exporter": "python",
   "pygments_lexer": "ipython3",
   "version": "3.8.5-final"
  },
  "orig_nbformat": 2,
  "kernelspec": {
   "name": "python3",
   "display_name": "Python 3",
   "language": "python"
  }
 },
 "nbformat": 4,
 "nbformat_minor": 2,
 "cells": [
  {
   "source": [
    "# Python File Handling\n",
    "<img width=\"224\" height=\"224\" src=\"https://www.flaticon.com/svg/vstatic/svg/4123/4123244.svg?token=exp=1611705144~hmac=b84795f0a49c004f1095ca16a8e16648\" alt=\"Folder free icon\" title=\"Folder free icon\" class=\"loaded\"> <img width=\"224\" height=\"224\" src=\"https://www.flaticon.com/premium-icon/icons/svg/172/172546.svg\" alt=\"Py\" title=\"Py\" class=\"loaded\">\n",
    "\n",
    "***\n",
    "\n",
    "There are some functions that we can use with files, for example for read, write and close them.\n"
   ],
   "cell_type": "markdown",
   "metadata": {}
  },
  {
   "source": [
    "file_name = open(name, mode)    # open the file named \n",
    "file_name.close()               # close the file\n",
    "var = file_name.read()          # read the file content\n",
    "var = file_name.readline()      # read one line of the file\n",
    "for index in file_name          # read the file content file by line\n",
    "file_name.write(var)            # write content into the file \n",
    "print(var, file=file_name)      # write content in the specified file\n",
    "file_name.seek(bytes)           # it moves to the indicated posotion     \n",
    "file_name.tell()                # return the position on the file"
   ],
   "cell_type": "code",
   "metadata": {},
   "execution_count": null,
   "outputs": []
  },
  {
   "source": [
    "### Files opening modes \n",
    "\n",
    "*** \n",
    "\n",
    "**r**   → abre el fichero al inicio para la lectura\n",
    "\n",
    "**r+**  → abre el fichero al inicio para la lectura y escritura\n",
    "\n",
    "**a**   → abre el fichero al final para añadir\n",
    "\n",
    "**w**   → vacía o crea el fichero para la escritura\n",
    "\n",
    "**t**   → indica que el fichero es de texto\n",
    "\n",
    "**b**   → indica que el fichero es binario"
   ],
   "cell_type": "markdown",
   "metadata": {}
  },
  {
   "source": [
    "## > Python File Open\n",
    "\n",
    "***\n",
    "\n",
    "To open the file, use the built-in `open()` function.\n",
    "\n",
    "The `open()` function returns a file object, which has a `read()` method for reading the content of the file:\n"
   ],
   "cell_type": "markdown",
   "metadata": {}
  },
  {
   "cell_type": "code",
   "execution_count": null,
   "metadata": {},
   "outputs": [],
   "source": [
    "f = open(\"demofile.txt\", \"r\")\n",
    "print(f.read())"
   ]
  },
  {
   "source": [
    "***If the file is located in a different location, you will have to specify the file path, like this:***\n",
    "```python\n",
    "f = open(\"D:\\\\myfiles\\welcome.txt\", \"r\")\n",
    "print(f.read())\n",
    "```\n"
   ],
   "cell_type": "markdown",
   "metadata": {}
  },
  {
   "source": [
    "### Read Only Parts of the File\n",
    "\n",
    "***\n",
    "\n",
    "By default the `read()` method returns the whole text, but you can also specify how many characters you want to return:\n"
   ],
   "cell_type": "markdown",
   "metadata": {}
  },
  {
   "cell_type": "code",
   "execution_count": null,
   "metadata": {},
   "outputs": [],
   "source": [
    "# Return the 5 first characters of the file:\n",
    "\n",
    "f = open(\"demofile.txt\", \"r\")\n",
    "print(f.read(5))"
   ]
  },
  {
   "source": [
    "### Read Lines\n",
    "\n",
    "***\n",
    "\n",
    "You can return one line by using the `readline()` method:"
   ],
   "cell_type": "markdown",
   "metadata": {}
  },
  {
   "cell_type": "code",
   "execution_count": null,
   "metadata": {},
   "outputs": [],
   "source": [
    "# Read one line of the file:\n",
    "\n",
    "f = open(\"demofile.txt\", \"r\")\n",
    "print(f.readline())"
   ]
  },
  {
   "source": [
    "***By calling `readline()` two times, you can read the two first lines:***\n",
    "```python\n",
    "# Read two lines of the file:\n",
    "\n",
    "f = open(\"demofile.txt\", \"r\")\n",
    "print(f.readline())\n",
    "print(f.readline())\n",
    "```"
   ],
   "cell_type": "markdown",
   "metadata": {}
  },
  {
   "source": [
    "### Looping through the lines of the file, reading line by line \n",
    "\n",
    "***\n",
    "\n"
   ],
   "cell_type": "markdown",
   "metadata": {}
  },
  {
   "cell_type": "code",
   "execution_count": null,
   "metadata": {},
   "outputs": [],
   "source": [
    "# Loop through the file line by line:\n",
    "\n",
    "f = open(\"demofile.txt\", \"r\")\n",
    "for x in f:\n",
    "  print(x)"
   ]
  },
  {
   "source": [
    "### Close Files\n",
    "\n",
    "***\n",
    "\n",
    "It is a good practice to always close the file when you are done with it."
   ],
   "cell_type": "markdown",
   "metadata": {}
  },
  {
   "cell_type": "code",
   "execution_count": null,
   "metadata": {},
   "outputs": [],
   "source": [
    "# Close the file when you are finish with it:\n",
    "\n",
    "f = open(\"demofile.txt\", \"r\")\n",
    "print(f.readline())\n",
    "f.close()"
   ]
  },
  {
   "source": [
    "## > Python File Write\n",
    "\n",
    "***\n",
    "\n",
    "### Write to an Existing File\n",
    "\n",
    "To write to an existing file, you must add a parameter to the `open()` function:\n",
    "\n",
    "`\"a\"` - Append - will append to the end of the file\n",
    "\n",
    "`\"w\"` - Write - will overwrite any existing content\n"
   ],
   "cell_type": "markdown",
   "metadata": {}
  },
  {
   "cell_type": "code",
   "execution_count": null,
   "metadata": {},
   "outputs": [],
   "source": [
    "# Open the file \"demofile2.txt\" and append content to the file:\n",
    "\n",
    "f = open(\"demofile2.txt\", \"a\")\n",
    "f.write(\"Now the file has more content!\")\n",
    "f.close()\n",
    "\n",
    "# open and read the file after the appending:\n",
    "f = open(\"demofile2.txt\", \"r\")\n",
    "print(f.read())"
   ]
  },
  {
   "source": [
    "# Open the file \"demofile3.txt\" and overwrite the content:\n",
    "# if we do not specify that we are reading the file and write on it we will lose the previous content\n",
    "f = open(\"demofile3.txt\", \"w\")\n",
    "f.write(\"Woops! I have deleted the content!\")\n",
    "f.close()\n",
    "\n",
    "#open and read the file after the appending:\n",
    "f = open(\"demofile3.txt\", \"r\")\n",
    "print(f.read())"
   ],
   "cell_type": "code",
   "metadata": {},
   "execution_count": null,
   "outputs": []
  },
  {
   "source": [
    "**Note:** the `\"w\"` method will overwrite the entire file."
   ],
   "cell_type": "markdown",
   "metadata": {}
  },
  {
   "source": [
    "### Create a New File\n",
    "\n",
    "***\n",
    "\n",
    "\n",
    "To create a new file in Python, use the `open()` method, with one of the following parameters:\n",
    "\n",
    "`\"x\"` - Create - will create a file, returns an error if the file exist\n",
    "\n",
    "`\"a\"` - Append - will create a file if the specified file does not exist\n",
    "\n",
    "`\"w\"` - Write - will create a file if the specified file does not exist"
   ],
   "cell_type": "markdown",
   "metadata": {}
  },
  {
   "cell_type": "code",
   "execution_count": null,
   "metadata": {},
   "outputs": [],
   "source": [
    "# Create a file called \"myfile.txt\":\n",
    "\n",
    "f = open(\"myfile.txt\", \"x\")\n",
    "\n",
    "# >> Result: a new empty file is created!"
   ]
  },
  {
   "source": [
    "## > Python Delete File\n",
    "\n",
    "***\n",
    "\n",
    "### Delete a File\n",
    "\n",
    "To delete a file, you must import the **OS module**, and run its `os.remove()` function:"
   ],
   "cell_type": "markdown",
   "metadata": {}
  },
  {
   "cell_type": "code",
   "execution_count": null,
   "metadata": {},
   "outputs": [],
   "source": [
    "# Remove the file \"demofile.txt\":\n",
    "\n",
    "import os\n",
    "os.remove(\"myfile.txt\")"
   ]
  },
  {
   "source": [
    "### Check if File exist:\n",
    "\n",
    "To avoid getting an error, you might want to check if the file exists before you try to delete it:"
   ],
   "cell_type": "markdown",
   "metadata": {}
  },
  {
   "cell_type": "code",
   "execution_count": null,
   "metadata": {},
   "outputs": [],
   "source": [
    "# Check if file exists, then delete it:\n",
    "\n",
    "import os\n",
    "if os.path.exists(\"demofile.txt\"):\n",
    "  os.remove(\"demofile.txt\")\n",
    "else:\n",
    "  print(\"The file does not exist\")"
   ]
  },
  {
   "source": [
    "## > With statement in Python\n",
    "\n",
    "> In Python you need to give access to a file by opening it. You can do it by using the open() function. Open returns a file object, which has methods and attributes for getting information about and manipulating the opened file.\n",
    "\n",
    "### With statement\n",
    "\n",
    "***\n",
    "\n",
    "With the `with` statement, you get better syntax and exceptions handling.\n",
    "\n",
    "> “The with statement simplifies exception handling by encapsulating common preparation and cleanup tasks.”\n",
    "\n",
    "In addition, **it will automatically close the file**. The with statement provides a way for ensuring that a clean-up is always used.\n",
    "\n",
    "```\n",
    "# Without the with statement, we would write something like this:\n",
    "\n",
    "file = open(\"welcome.txt\")\n",
    "\n",
    "data = file.read()\n",
    "\n",
    "print data\n",
    "\n",
    "file.close()  # It's important to close the file when you're done with it\n",
    "```\n"
   ],
   "cell_type": "markdown",
   "metadata": {}
  },
  {
   "source": [
    "### With Statement Usage\n",
    "\n",
    "Opening a file using with is as simple as: `with open(filename) as file:`"
   ],
   "cell_type": "markdown",
   "metadata": {}
  },
  {
   "cell_type": "code",
   "execution_count": null,
   "metadata": {},
   "outputs": [],
   "source": [
    "with open(\"demofile.txt\", \"a\") as file: # Use file to refer to the file object\n",
    "   data = file.write(\"Hi there\")\n",
    "\n",
    "#do something with data Opens output.txt in write mode\n",
    "\n",
    "with open('demofile.txt', 'r') as file2:  # Use file to refer to the file object\n",
    "    print(file2.read())\n"
   ]
  },
  {
   "cell_type": "code",
   "execution_count": null,
   "metadata": {},
   "outputs": [],
   "source": []
  }
 ]
}