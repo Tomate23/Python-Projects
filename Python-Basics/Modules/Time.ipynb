{
 "metadata": {
  "language_info": {
   "codemirror_mode": {
    "name": "ipython",
    "version": 3
   },
   "file_extension": ".py",
   "mimetype": "text/x-python",
   "name": "python",
   "nbconvert_exporter": "python",
   "pygments_lexer": "ipython3",
   "version": "3.8.5-final"
  },
  "orig_nbformat": 2,
  "kernelspec": {
   "name": "python3",
   "display_name": "Python 3",
   "language": "python"
  }
 },
 "nbformat": 4,
 "nbformat_minor": 2,
 "cells": [
  {
   "source": [
    "# Python datetime\n",
    "\n",
    "<img width=\"100\" height=\"100\" src=\"https://raw.githubusercontent.com/Tomate23/Images/7a904ed477ddfc65052cb4a98fb803c5ab3d00ec/python-powered-w.svg\" alt=\"Weather free icon\">\n",
    "<img width=\"100\" height=\"100\" src=\"https://raw.githubusercontent.com/Tomate23/Images/c9c2da01e8244cdbeb9fe527c6b7920cfd465b2f/clock.svg\" alt=\"Weather free icon\">\n",
    "<img width=\"100\" height=\"100\" src=\"https://raw.githubusercontent.com/Tomate23/Images/c9c2da01e8244cdbeb9fe527c6b7920cfd465b2f/calendar.svg\" alt=\"Weather free icon\">\n",
    "\n",
    "[datetime Module](https://www.programiz.com/python-programming/datetime)\n",
    "\n",
    "---\n",
    "\n",
    "Python has a module named ``datetime`` to work with dates and times. Let's create a few simple programs related to date and time before we dig deeper.\n",
    "\n",
    "### Example 1: Get the current Date and Time \n",
    "We can use the ``datetime.now()`` assigned to a variable and then print it, if we want to avoid writing ``datetime`` twice we can import from ``datetime`` the ``datetime`` function"
   ],
   "cell_type": "markdown",
   "metadata": {}
  },
  {
   "cell_type": "code",
   "execution_count": null,
   "metadata": {},
   "outputs": [],
   "source": [
    "import datetime\n",
    "\n",
    "datetime_object = datetime.datetime.now()\n",
    "print(datetime_object)"
   ]
  },
  {
   "cell_type": "code",
   "execution_count": null,
   "metadata": {},
   "outputs": [],
   "source": [
    "# Example importing datetime function\n",
    "\n",
    "from datetime import datetime\n",
    "current = datetime.now()\n",
    "print(current)"
   ]
  },
  {
   "source": [
    "### Example 2: Get Current Date\n",
    "We have to use ``today()`` method and now we will use the ``date()`` and not the ``datetime()`` function because we want to get the current date fo today"
   ],
   "cell_type": "markdown",
   "metadata": {}
  },
  {
   "cell_type": "code",
   "execution_count": null,
   "metadata": {},
   "outputs": [],
   "source": [
    "import datetime\n",
    "\n",
    "today = datetime.date.today()\n",
    "\n",
    "print(f\"today is {today}\")"
   ]
  },
  {
   "source": [
    "### Python strftime() - datetime object to string\n",
    "The ``strftime()`` method is defined under classes ``date``, ``datetime`` and ``time``. The method creates a formatted string from a given ``date``, ``datetime`` or ``time`` object."
   ],
   "cell_type": "markdown",
   "metadata": {}
  },
  {
   "cell_type": "code",
   "execution_count": null,
   "metadata": {},
   "outputs": [],
   "source": [
    "from datetime import datetime\n",
    "\n",
    "# Current date and time\n",
    "now = datetime.now()\n",
    "\n",
    "t = now.strftime(\"%H:%M:%S\")\n",
    "print(\"time:\", t)\n",
    "\n",
    "s1 = now.strftime(\"%m/%d/%Y, %H:%M:%S\")\n",
    "# mm/dd/YY H:M:S format\n",
    "print(\"s1:\", s1)\n",
    "\n",
    "s2 = now.strftime(\"%d/%m/%Y, %H:%M:%S\")\n",
    "# dd/mm/YY H:M:S format\n",
    "print(\"s2:\", s2)"
   ]
  },
  {
   "source": [
    "Here, ``%Y``, ``%m``, ``%d``, ``%H`` etc. are format codes. The ``strftime()`` method takes one or more format codes and returns a formatted string based on it.\n",
    "\n",
    "In the above program, ``t``, ``s1`` and ``s2`` are strings.\n",
    "\n",
    "- **%Y** - year ``[0001,..., 2018, 2019,..., 9999]``\n",
    "- **%m** - month ``[01, 02, ..., 11, 12]``\n",
    "- **%d** - day ``[01, 02, ..., 30, 31]``\n",
    "- **%H** - hour ``[00, 01, ..., 22, 23]``\n",
    "- **%M** - minute ``[00, 01, ..., 58, 59]``\n",
    "- **%S** - second ``[00, 01, ..., 58, 59]``\n",
    "\n",
    "To learn more about ``strftime()`` and format codes, visit: Python ``strftime()``."
   ],
   "cell_type": "markdown",
   "metadata": {}
  },
  {
   "source": [
    "### Example 1: datetime to string using strftime()\n",
    "The program below converts a ``datetime`` object containing current date and time to different string formats."
   ],
   "cell_type": "markdown",
   "metadata": {}
  },
  {
   "cell_type": "code",
   "execution_count": null,
   "metadata": {},
   "outputs": [],
   "source": [
    "from datetime import datetime\n",
    "\n",
    "now = datetime.now() # current date and time\n",
    "\n",
    "year = now.strftime(\"%Y\")\n",
    "print(\"year:\", year)\n",
    "\n",
    "month = now.strftime(\"%m\")\n",
    "print(\"month:\", month)\n",
    "\n",
    "day = now.strftime(\"%d\")\n",
    "print(\"day:\", day)\n",
    "\n",
    "time = now.strftime(\"%H:%M:%S\")\n",
    "print(\"time:\", time)\n",
    "\n",
    "date_time = now.strftime(\"%m/%d/%Y, %H:%M:%S\")\n",
    "print(\"date and time:\",date_time)"
   ]
  }
 ]
}