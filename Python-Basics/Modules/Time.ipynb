{
 "metadata": {
  "language_info": {
   "codemirror_mode": {
    "name": "ipython",
    "version": 3
   },
   "file_extension": ".py",
   "mimetype": "text/x-python",
   "name": "python",
   "nbconvert_exporter": "python",
   "pygments_lexer": "ipython3",
   "version": "3.8.5-final"
  },
  "orig_nbformat": 2,
  "kernelspec": {
   "name": "python3",
   "display_name": "Python 3",
   "language": "python"
  }
 },
 "nbformat": 4,
 "nbformat_minor": 2,
 "cells": [
  {
   "source": [
    "# Python datetime\n",
    "\n",
    "<img width=\"100\" height=\"100\" src=\"https://raw.githubusercontent.com/Tomate23/Images/7a904ed477ddfc65052cb4a98fb803c5ab3d00ec/python-powered-w.svg\" alt=\"Weather free icon\">\n",
    "<img width=\"100\" height=\"100\" src=\"https://raw.githubusercontent.com/Tomate23/Images/c9c2da01e8244cdbeb9fe527c6b7920cfd465b2f/clock.svg\" alt=\"Weather free icon\">\n",
    "<img width=\"100\" height=\"100\" src=\"https://raw.githubusercontent.com/Tomate23/Images/c9c2da01e8244cdbeb9fe527c6b7920cfd465b2f/calendar.svg\" alt=\"Weather free icon\">\n",
    "\n",
    "[datetime Module](https://www.programiz.com/python-programming/datetime)\n",
    "\n",
    "---\n",
    "\n",
    "Python has a module named ``datetime`` to work with dates and times. Let's create a few simple programs related to date and time before we dig deeper.\n",
    "\n",
    "### Example 1: Get the current Date and Time \n",
    "We can use the ``datetime.now()`` assigned to a variable and then print it, if we want to avoid writing ``datetime`` twice we can import from ``datetime`` the ``datetime`` function"
   ],
   "cell_type": "markdown",
   "metadata": {}
  },
  {
   "cell_type": "code",
   "execution_count": null,
   "metadata": {},
   "outputs": [],
   "source": [
    "import datetime\n",
    "\n",
    "datetime_object = datetime.datetime.now()\n",
    "print(datetime_object)"
   ]
  },
  {
   "cell_type": "code",
   "execution_count": null,
   "metadata": {},
   "outputs": [],
   "source": [
    "# Example importing datetime function\n",
    "\n",
    "from datetime import datetime\n",
    "current = datetime.now()\n",
    "print(current)"
   ]
  },
  {
   "source": [
    "### Example 2: Get Current Date\n",
    "We have to use ``today()`` method and now we will use the ``date()`` and not the ``datetime()`` function because we want to get the current date fo today"
   ],
   "cell_type": "markdown",
   "metadata": {}
  },
  {
   "cell_type": "code",
   "execution_count": null,
   "metadata": {},
   "outputs": [],
   "source": [
    "import datetime\n",
    "\n",
    "today = datetime.date.today()\n",
    "\n",
    "print(f\"today is {today}\")"
   ]
  },
  {
   "cell_type": "code",
   "execution_count": null,
   "metadata": {},
   "outputs": [],
   "source": []
  },
  {
   "cell_type": "code",
   "execution_count": null,
   "metadata": {},
   "outputs": [],
   "source": []
  }
 ]
}