{
 "metadata": {
  "language_info": {
   "codemirror_mode": {
    "name": "ipython",
    "version": 3
   },
   "file_extension": ".py",
   "mimetype": "text/x-python",
   "name": "python",
   "nbconvert_exporter": "python",
   "pygments_lexer": "ipython3",
   "version": "3.8.5-final"
  },
  "orig_nbformat": 2,
  "kernelspec": {
   "name": "python3",
   "display_name": "Python 3",
   "language": "python"
  }
 },
 "nbformat": 4,
 "nbformat_minor": 2,
 "cells": [
  {
   "source": [
    "# Python 3's f-Strings: An Improved String Formatting Syntax (Guide)\n",
    "\n",
    "<img width=\"100\" height=\"100\" src=\"https://raw.githubusercontent.com/Tomate23/Images/7a904ed477ddfc65052cb4a98fb803c5ab3d00ec/python-powered-w.svg\" alt=\"Weather free icon\">\n",
    "\n",
    "[Python Formattintg](https://realpython.com/python-f-strings/#old-school-string-formatting-in-python)\n",
    "\n",
    "***\n",
    "\n",
    "## “Old-school” String Formatting in Python\n",
    "\n",
    "Before Python 3.6, you had two main ways of embedding Python expressions inside string literals for formatting: %-formatting and ``str.format()``. You’re about to see how to use them and what their limitations are.\n",
    "\n",
    "### How to Use %-formatting\n",
    "\n",
    "String objects have a built-in operation using the ``%`` operator, which you can use to format strings. Here’s what that looks like in practice:\n",
    "\n",
    "\n"
   ],
   "cell_type": "markdown",
   "metadata": {}
  },
  {
   "cell_type": "code",
   "execution_count": null,
   "metadata": {},
   "outputs": [],
   "source": [
    "name = \"Eric\"\n",
    "print(\"Hello, %s\" %name) # the %s means that the variable is a (s)tring"
   ]
  },
  {
   "source": [
    "**Multi-Variavles:** In order to insert more than one variable, you must use a tuple of those variables. Here’s how you would do that:"
   ],
   "cell_type": "markdown",
   "metadata": {}
  },
  {
   "cell_type": "code",
   "execution_count": null,
   "metadata": {},
   "outputs": [],
   "source": [
    "name = \"Eric\"\n",
    "age = 45\n",
    "print(\"Hello, %s you are %s\" % (name, age)) "
   ]
  },
  {
   "source": [
    "### Why %-formatting Isn’t Great\n",
    "\n",
    "***\n",
    "\n",
    "The code examples that you just saw above are readable enough. However, once you start using several parameters and longer strings, your code will quickly become much less easily readable. Things are starting to look a little messy already:"
   ],
   "cell_type": "markdown",
   "metadata": {}
  },
  {
   "cell_type": "code",
   "execution_count": null,
   "metadata": {},
   "outputs": [],
   "source": [
    "first_name = \"Eric\"\n",
    "last_name = \"Idle\"\n",
    "age = 74\n",
    "profession = \"comedian\"\n",
    "affiliation = \"Monty Python\"\n",
    "print(\"Hello, %s %s. You are %s. You are a %s. You were a member of %s.\" % (first_name, last_name, age, profession, affiliation))"
   ]
  },
  {
   "source": [
    "## Option #2: str.format()\n",
    "\n",
    "***\n",
    "\n",
    "This newer way of getting the job done was introduced in Python 2.6. You can check out A Guide to the Newer Python String Format Techniques for more info.\n",
    "\n",
    "### How To Use str.format()\n",
    "``str.format()``  is an improvement on %-formatting. It uses normal function call syntax and is extensible through the ``__format__()`` method on the object being converted to a string.\n",
    "\n",
    "With ``str.format()``, the replacement fields are marked by curly braces:"
   ],
   "cell_type": "markdown",
   "metadata": {}
  },
  {
   "cell_type": "code",
   "execution_count": null,
   "metadata": {},
   "outputs": [],
   "source": [
    "first_name = \"Eric\"\n",
    "last_name = \"Idle\"\n",
    "print(\"Hello, {} your last name is {}\".format(name, last_name))"
   ]
  },
  {
   "cell_type": "code",
   "execution_count": null,
   "metadata": {},
   "outputs": [],
   "source": [
    "# We can reference variables in any order by referencing their index:\n",
    "first_name = \"Eric\"\n",
    "last_name = \"Idle\"\n",
    "print(\"Hello, {1} your last name is {0}\".format(name, last_name))\n"
   ]
  },
  {
   "source": [
    "## f-Strings: A New and Improved Way to Format Strings in Python\n",
    "\n",
    "***\n",
    "### Simple Syntax\n",
    "The syntax is similar to the one you used with ``str.format()`` but less verbose. Look at how easily readable this is:\n"
   ],
   "cell_type": "markdown",
   "metadata": {}
  },
  {
   "cell_type": "code",
   "execution_count": null,
   "metadata": {},
   "outputs": [],
   "source": [
    "first_name = \"Eric\"\n",
    "last_name = \"Idle\"\n",
    "print(f\"Hello, {first_name}, your last name is {last_name}\") # We can use f and F"
   ]
  },
  {
   "source": [
    "## Arbitrary Expressions\n",
    "\n",
    "***\n",
    "\n",
    "Because f-strings are evaluated at runtime, you can put any and all valid Python expressions in them. This allows you to do some nifty (ES= geniale) things."
   ],
   "cell_type": "markdown",
   "metadata": {}
  },
  {
   "cell_type": "code",
   "execution_count": null,
   "metadata": {},
   "outputs": [],
   "source": [
    "print(f\"{2 * 3}\") # We can execute math and others operations with this syntax"
   ]
  },
  {
   "cell_type": "code",
   "execution_count": null,
   "metadata": {},
   "outputs": [],
   "source": [
    "def Lower_case(string):\n",
    "    return string.upper()\n",
    "\n",
    "name = input(\"Tell me your name > \\n\")\n",
    "print(f\"{Lower_case(name)} now is in upper case\")"
   ]
  }
 ]
}