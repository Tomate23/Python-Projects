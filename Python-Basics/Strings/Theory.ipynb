{
 "metadata": {
  "language_info": {
   "codemirror_mode": {
    "name": "ipython",
    "version": 3
   },
   "file_extension": ".py",
   "mimetype": "text/x-python",
   "name": "python",
   "nbconvert_exporter": "python",
   "pygments_lexer": "ipython3",
   "version": "3.8.5-final"
  },
  "orig_nbformat": 2,
  "kernelspec": {
   "name": "python3",
   "display_name": "Python 3",
   "language": "python"
  }
 },
 "nbformat": 4,
 "nbformat_minor": 2,
 "cells": [
  {
   "source": [
    "# Python Strings \n",
    "<img width=\"100\" height=\"100\" src=\"https://raw.githubusercontent.com/Tomate23/Images/7a904ed477ddfc65052cb4a98fb803c5ab3d00ec/python-powered-w.svg\" alt=\"Weather free icon\">\n",
    "\n",
    "***\n",
    "\n",
    "## Multiline Strings\n",
    "\n",
    "You can assign a multiline string to a variable by using three quotes:\n",
    "\n"
   ],
   "cell_type": "markdown",
   "metadata": {}
  },
  {
   "cell_type": "code",
   "execution_count": 1,
   "metadata": {},
   "outputs": [
    {
     "output_type": "stream",
     "name": "stdout",
     "text": [
      "Lorem ipsum dolor sit amet,\nconsectetur adipiscing elit,\nsed do eiusmod tempor incididunt\nut labore et dolore magna aliqua.\n"
     ]
    }
   ],
   "source": [
    "# Example\n",
    "# You can use three double quotes:\n",
    "\n",
    "a = \"\"\"Lorem ipsum dolor sit amet,\n",
    "consectetur adipiscing elit,\n",
    "sed do eiusmod tempor incididunt\n",
    "ut labore et dolore magna aliqua.\"\"\"\n",
    "print(a)"
   ]
  },
  {
   "source": [
    "### Strings are Arrays\n",
    "\n",
    "***\n",
    "\n",
    "Like many other popular programming languages, strings in Python are arrays of bytes representing unicode characters.\n",
    "\n",
    "However, Python does not have a character data type, a single character is simply a string with a length of 1.\n",
    "\n",
    "Square brackets can be used to access elements of the string."
   ],
   "cell_type": "markdown",
   "metadata": {}
  },
  {
   "cell_type": "code",
   "execution_count": 2,
   "metadata": {},
   "outputs": [
    {
     "output_type": "stream",
     "name": "stdout",
     "text": [
      "e\n"
     ]
    }
   ],
   "source": [
    "# Example\n",
    "# Get the character at position 1 (remember that the first character has the position 0):\n",
    "\n",
    "a = \"Hello, World!\"\n",
    "print(a[1])"
   ]
  },
  {
   "source": [
    "### Looping Through a String\n",
    "\n",
    "***\n",
    "\n",
    "Since strings are arrays, we can loop through the characters in a string, with a `for` loop."
   ],
   "cell_type": "markdown",
   "metadata": {}
  },
  {
   "cell_type": "code",
   "execution_count": 3,
   "metadata": {},
   "outputs": [
    {
     "output_type": "stream",
     "name": "stdout",
     "text": [
      "b\na\nn\na\nn\na\n"
     ]
    }
   ],
   "source": [
    "# Example\n",
    "# Loop through the letters in the word \"banana\":\n",
    "\n",
    "for x in \"banana\":\n",
    "  print(x)"
   ]
  },
  {
   "source": [
    "## Check String\n",
    "\n",
    "***\n",
    "\n",
    "To check if a certain phrase or character is present in a string, we can use the keyword ``in``."
   ],
   "cell_type": "markdown",
   "metadata": {}
  },
  {
   "cell_type": "code",
   "execution_count": 4,
   "metadata": {},
   "outputs": [
    {
     "output_type": "stream",
     "name": "stdout",
     "text": [
      "True\n"
     ]
    }
   ],
   "source": [
    "# Example\n",
    "# Check if \"free\" is present in the following text:\n",
    "\n",
    "txt = \"The best things in life are free!\"\n",
    "print(\"free\" in txt)"
   ]
  },
  {
   "source": [
    "### Check if NOT\n",
    "\n",
    "***\n",
    "\n",
    "To check if a certain phrase or character is NOT present in a string, we can use the keyword ``not in``."
   ],
   "cell_type": "markdown",
   "metadata": {}
  },
  {
   "cell_type": "code",
   "execution_count": 5,
   "metadata": {},
   "outputs": [
    {
     "output_type": "stream",
     "name": "stdout",
     "text": [
      "Yes, 'expensive' is NOT present.\n"
     ]
    }
   ],
   "source": [
    "# Example\n",
    "# print only if \"expensive\" is NOT present:\n",
    "\n",
    "txt = \"The best things in life are free!\"\n",
    "if \"expensive\" not in txt:\n",
    "  print(\"Yes, 'expensive' is NOT present.\")"
   ]
  },
  {
   "source": [
    "## Python - Slicing Strings\n",
    "\n",
    "***\n",
    "\n",
    "### Slicing\n",
    "You can return a range of characters by using the slice syntax.\n",
    "\n",
    "Specify the start index and the end index, separated by a colon, to return a part of the string."
   ],
   "cell_type": "markdown",
   "metadata": {}
  },
  {
   "cell_type": "code",
   "execution_count": 6,
   "metadata": {},
   "outputs": [
    {
     "output_type": "stream",
     "name": "stdout",
     "text": [
      "llo\nHello\n"
     ]
    }
   ],
   "source": [
    "# Example\n",
    "# Get the characters from position 2 to position 5 (not included):\n",
    "\n",
    "b = \"Hello, World!\"\n",
    "print(b[2:5])\n",
    "\n",
    "# Slice From the Start\n",
    "# By leaving out the start index, the range will start at the first character:\n",
    "\n",
    "# Example\n",
    "# Get the characters from the start to position 5 (not included):\n",
    "\n",
    "b = \"Hello, World!\"\n",
    "print(b[:5])"
   ]
  },
  {
   "source": [
    "## Python - Modify Strings\n",
    "\n",
    "[String methods in Python](https://www.w3schools.com/python/python_ref_string.asp)\n",
    "\n",
    "***\n",
    "\n",
    "Python has a set of built-in methods that you can use on strings.\n",
    "\n",
    "`upper()` - The upper() method returns the string in upper case\n",
    "\n",
    "`lower()` - The lower() method returns the string in lower case\n",
    "\n",
    "`strip()` - The strip() method removes any whitespace from the beginning or the end\n",
    "\n",
    "`replace()` - The replace() method replaces a string with another string\n",
    "\n",
    "`split()` - The split() method returns a list where the text between the specified separator becomes the list items\n"
   ],
   "cell_type": "markdown",
   "metadata": {}
  },
  {
   "cell_type": "code",
   "execution_count": 7,
   "metadata": {},
   "outputs": [
    {
     "output_type": "stream",
     "name": "stdout",
     "text": [
      " HELLO, WORLD! \n hello, world! \nHello, World!\n Jello, World! \n[' Hello', ' World! ']\n"
     ]
    }
   ],
   "source": [
    "a = \" Hello, World! \"\n",
    "print(a.upper())\n",
    "print(a.lower())\n",
    "print(a.strip()) # returns \"Hello, World!\"\n",
    "print(a.replace(\"H\", \"J\"))\n",
    "print(a.split(\",\")) # returns ['Hello', ' World!']"
   ]
  },
  {
   "source": [
    "### Reverse phrase\n",
    "\n",
    "***\n",
    "\n"
   ],
   "cell_type": "markdown",
   "metadata": {}
  },
  {
   "cell_type": "code",
   "execution_count": 8,
   "metadata": {},
   "outputs": [
    {
     "output_type": "stream",
     "name": "stdout",
     "text": [
      "Phrase one is  hi there! and reverse phrase is  !ereht ih \n"
     ]
    }
   ],
   "source": [
    "phrase = \"hi there!\"\n",
    "phrase2 = \" \"\n",
    "\n",
    "for i in phrase:\n",
    "    phrase2 = i + phrase2\n",
    "\n",
    "print(\"Phrase one is \", phrase + \" and reverse phrase is \", phrase2)\n"
   ]
  }
 ]
}