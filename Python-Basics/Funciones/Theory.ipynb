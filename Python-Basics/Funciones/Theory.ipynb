{
 "metadata": {
  "language_info": {
   "codemirror_mode": {
    "name": "ipython",
    "version": 3
   },
   "file_extension": ".py",
   "mimetype": "text/x-python",
   "name": "python",
   "nbconvert_exporter": "python",
   "pygments_lexer": "ipython3",
   "version": "3.8.5-final"
  },
  "orig_nbformat": 2,
  "kernelspec": {
   "name": "python3",
   "display_name": "Python 3",
   "language": "python"
  }
 },
 "nbformat": 4,
 "nbformat_minor": 2,
 "cells": [
  {
   "source": [
    "# Python Functions\n",
    "\n",
    "<img width=\"100\" height=\"100\" src=\"https://www.flaticon.com/svg/vstatic/svg/1822/1822899.svg?token=exp=1611727344~hmac=a495d6f1381433f15e069ab32f64fd43\" alt=\"Python free icon\"> <img width=\"100\" height=\"100\" src=\"https://www.flaticon.com/svg/vstatic/svg/3299/3299943.svg?token=exp=1611727412~hmac=bb8e198dc2e7069b0da2dd6ebc6b97a8\" alt=\"Function free icon\">\n",
    "\n",
    "***\n",
    "\n"
   ],
   "cell_type": "markdown",
   "metadata": {}
  },
  {
   "source": [
    "## Creating a Function\n",
    "\n",
    "***\n",
    "\n",
    "The only thing to create a Function in python is use the ``def`` word an then the name of our Function, for example:\n",
    "```\n",
    "def my_function():\n",
    "    print(\"Hello from a function\")\n",
    "```"
   ],
   "cell_type": "markdown",
   "metadata": {}
  },
  {
   "source": [
    "## Calling a Function\n",
    "\n",
    "***\n",
    "\n",
    "To call a Function in python we have to use the **name** of the Function followed by parenthesis:\n",
    "```\n",
    "def my_function():\n",
    "    print(\"Calling a Function\")\n",
    "\n",
    "my_function()\n",
    "```"
   ],
   "cell_type": "markdown",
   "metadata": {}
  },
  {
   "source": [
    "## Arguments \n",
    "\n",
    "***\n",
    "\n",
    "The arguments are infromation that can be passed to the function and it will use it, when we create the function we have to specify the number of arguments we will pe passing\n",
    "```\n",
    "def my_function(fname):\n",
    "  print(fname + \" Refsnes\")\n",
    "\n",
    "my_function(\"Emil\")\n",
    "my_function(\"Tobias\")\n",
    "my_function(\"Linus\")\n",
    "```"
   ],
   "cell_type": "markdown",
   "metadata": {}
  },
  {
   "source": [
    "## Arbitrary Arguments, *args\n",
    "\n",
    "---\n",
    "\n",
    "If you do not know how many arguments that will be passed into your function, add a * before the parameter name in the function definition.\n",
    "\n",
    "This way the function will receive a tuple of arguments, and can access the items accordingly:"
   ],
   "cell_type": "markdown",
   "metadata": {}
  },
  {
   "cell_type": "code",
   "execution_count": null,
   "metadata": {},
   "outputs": [],
   "source": [
    "#Example > If the number of arguments is unknown, add a * before the parameter name:\n",
    "\n",
    "def my_function(*kids):\n",
    "    for i in range(len(kids)):\n",
    "        print(\"The youngest child is \" + kids[i])\n",
    "\n",
    "my_function(\"Emil\", \"Tobias\", \"Linus\")"
   ]
  },
  {
   "source": [
    "## Keyword Arguments\n",
    "\n",
    "---\n",
    "\n",
    "You can also send arguments with the ``key = value syntax``. This way the order of the arguments does not matter."
   ],
   "cell_type": "markdown",
   "metadata": {}
  },
  {
   "cell_type": "code",
   "execution_count": null,
   "metadata": {},
   "outputs": [],
   "source": [
    "def my_function(child3, child2, child1):\n",
    "    print(\"the argument child is \" + child2)\n",
    "\n",
    "\n",
    "my_function(child1 = \"Emil\", child2 = \"Tobias\", child3 = \"Linus\")"
   ]
  },
  {
   "source": [
    "## Arbitrary Keyword Arguments, **kwargs\n",
    "\n",
    "---\n",
    "\n",
    "If you do not know how many keyword arguments that will be passed into your function, add two asterisk: ** before the parameter name in the function definition.\n",
    "\n",
    "This way the function will receive a dictionary of arguments, and can access the items accordingly:"
   ],
   "cell_type": "markdown",
   "metadata": {}
  },
  {
   "cell_type": "code",
   "execution_count": null,
   "metadata": {},
   "outputs": [],
   "source": [
    "def my_function(**kid):\n",
    "        print(\"His last name is \" + kid[\"lname\"].upper())\n",
    "\n",
    "my_function(fname = \"Tobias\", lname = \"Refsnes\")"
   ]
  },
  {
   "source": [
    "## Default Parameter Value\n",
    "\n",
    "---\n",
    "\n",
    "The following example shows how to use a default parameter value.\n",
    "\n",
    "If we call the function without argument, it uses the default value:"
   ],
   "cell_type": "markdown",
   "metadata": {}
  },
  {
   "cell_type": "code",
   "execution_count": null,
   "metadata": {},
   "outputs": [],
   "source": [
    "def my_function(country = \"Norway\"):\n",
    "  print(\"I am from \" + country)\n",
    "\n",
    "my_function(\"Sweden\")\n",
    "my_function(\"India\")\n",
    "my_function()\n",
    "my_function(\"Brazil\")"
   ]
  },
  {
   "source": [
    "## Return Values\n",
    "\n",
    "---\n",
    "\n",
    "To let a function return a value, use the ``return`` statement:"
   ],
   "cell_type": "markdown",
   "metadata": {}
  },
  {
   "cell_type": "code",
   "execution_count": null,
   "metadata": {},
   "outputs": [],
   "source": [
    "def my_function(x):\n",
    "  return 5 * x\n",
    "\n",
    "print(my_function(3))\n",
    "print(my_function(5))\n",
    "print(my_function(9))"
   ]
  },
  {
   "source": [
    "`## The pass Statement\n",
    "function definitions cannot be empty, but if you for some reason have a function definition with no content, put in the pass statement to avoid getting an error.\n",
    "\n",
    "Example >\n",
    "```\n",
    "def myfunction():\n",
    "  pass\n",
    "```\n",
    "\n",
    "***# having an empty function definition like this, would raise an error without the pass statement***"
   ],
   "cell_type": "markdown",
   "metadata": {}
  },
  {
   "source": [
    "# Recursion\n",
    "\n",
    "---\n",
    "\n",
    " ![](https://robologs.net/wp-content/uploads/2015/03/descomposicion_factorial1.png)\n",
    "\n",
    "---\n",
    "\n"
   ],
   "cell_type": "markdown",
   "metadata": {}
  },
  {
   "source": [
    "## Write a function one recursive and other iterative which calculate z x v  by add succesion"
   ],
   "cell_type": "markdown",
   "metadata": {}
  },
  {
   "source": [
    "### Iterative\n",
    "\n",
    "---\n"
   ],
   "cell_type": "markdown",
   "metadata": {}
  },
  {
   "cell_type": "code",
   "execution_count": null,
   "metadata": {},
   "outputs": [],
   "source": [
    "z = int(input(\"introduce valor de z:\\t\"))\n",
    "v = int(input(\"introduce valor de v:\\t\"))\n",
    "\n",
    "def itera(z, v):\n",
    "    suma = 0\n",
    "    for i in range(v):\n",
    "        suma += z\n",
    "    return suma\n",
    "print(f\"con codigo iterativo: {itera(z, v)}\")"
   ]
  },
  {
   "source": [
    "### Recursive\n",
    "\n",
    "---\n"
   ],
   "cell_type": "markdown",
   "metadata": {}
  }
 ]
}