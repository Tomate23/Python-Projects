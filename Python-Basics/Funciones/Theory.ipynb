{
 "cells": [
  {
   "cell_type": "markdown",
   "metadata": {},
   "source": [
    "# Python Functions\n",
    "\n",
    "<img width=\"100\" height=\"100\" src=\"https://raw.githubusercontent.com/Tomate23/Images/3ee4767d15794cadce2b40cc421a867c12f9e71e/python.svg\" alt=\"Python free icon\"> <img width=\"100\" height=\"100\" src=\"https://raw.githubusercontent.com/Tomate23/Images/3ee4767d15794cadce2b40cc421a867c12f9e71e/function.svg\" alt=\"Function free icon\">\n",
    "\n",
    "***\n",
    "\n"
   ]
  },
  {
   "cell_type": "markdown",
   "metadata": {},
   "source": [
    "## Creating a Function\n",
    "\n",
    "***\n",
    "\n",
    "The only thing to create a Function in python is use the ``def`` word an then the name of our Function, for example:\n",
    "```\n",
    "def my_function():\n",
    "    print(\"Hello from a function\")\n",
    "```"
   ]
  },
  {
   "cell_type": "markdown",
   "metadata": {},
   "source": [
    "## Calling a Function\n",
    "\n",
    "***\n",
    "\n",
    "To call a Function in python we have to use the **name** of the Function followed by parenthesis:\n",
    "```\n",
    "def my_function():\n",
    "    print(\"Calling a Function\")\n",
    "\n",
    "my_function()\n",
    "```"
   ]
  },
  {
   "cell_type": "markdown",
   "metadata": {},
   "source": [
    "## Arguments \n",
    "\n",
    "***\n",
    "\n",
    "The arguments are infromation that can be passed to the function and it will use it, when we create the function we have to specify the number of arguments we will pe passing\n",
    "```\n",
    "def my_function(fname):\n",
    "  print(fname + \" Refsnes\")\n",
    "\n",
    "my_function(\"Emil\")\n",
    "my_function(\"Tobias\")\n",
    "my_function(\"Linus\")\n",
    "```"
   ]
  },
  {
   "cell_type": "markdown",
   "metadata": {},
   "source": [
    "## Arbitrary Arguments, *args\n",
    "\n",
    "---\n",
    "\n",
    "If you do not know how many arguments that will be passed into your function, add a * before the parameter name in the function definition.\n",
    "\n",
    "This way the function will receive a tuple of arguments, and can access the items accordingly:"
   ]
  },
  {
   "cell_type": "code",
   "execution_count": null,
   "metadata": {},
   "outputs": [],
   "source": [
    "#Example > If the number of arguments is unknown, add a * before the parameter name:\n",
    "\n",
    "def my_function(*kids):\n",
    "    for i in range(len(kids)):\n",
    "        print(\"The youngest child is \" + kids[i])\n",
    "\n",
    "my_function(\"Emil\", \"Tobias\", \"Linus\")"
   ]
  },
  {
   "cell_type": "markdown",
   "metadata": {},
   "source": [
    "## Keyword Arguments\n",
    "\n",
    "---\n",
    "\n",
    "You can also send arguments with the ``key = value syntax``. This way the order of the arguments does not matter."
   ]
  },
  {
   "cell_type": "code",
   "execution_count": null,
   "metadata": {},
   "outputs": [],
   "source": [
    "def my_function(child3, child2, child1):\n",
    "    print(\"the argument child is \" + child2)\n",
    "\n",
    "\n",
    "my_function(child1 = \"Emil\", child2 = \"Tobias\", child3 = \"Linus\")"
   ]
  },
  {
   "cell_type": "markdown",
   "metadata": {},
   "source": [
    "## Arbitrary Keyword Arguments, **kwargs\n",
    "\n",
    "---\n",
    "\n",
    "If you do not know how many keyword arguments that will be passed into your function, add two asterisk: ** before the parameter name in the function definition.\n",
    "\n",
    "This way the function will receive a dictionary of arguments, and can access the items accordingly:"
   ]
  },
  {
   "cell_type": "code",
   "execution_count": null,
   "metadata": {},
   "outputs": [],
   "source": [
    "def my_function(**kid):\n",
    "        print(\"His last name is \" + kid[\"lname\"].upper())\n",
    "\n",
    "my_function(fname = \"Tobias\", lname = \"Refsnes\")"
   ]
  },
  {
   "cell_type": "markdown",
   "metadata": {},
   "source": [
    "## Default Parameter Value\n",
    "\n",
    "---\n",
    "\n",
    "The following example shows how to use a default parameter value.\n",
    "\n",
    "If we call the function without argument, it uses the default value:"
   ]
  },
  {
   "cell_type": "code",
   "execution_count": null,
   "metadata": {},
   "outputs": [],
   "source": [
    "def my_function(country = \"Norway\"):\n",
    "  print(\"I am from \" + country)\n",
    "\n",
    "my_function(\"Sweden\")\n",
    "my_function(\"India\")\n",
    "my_function()\n",
    "my_function(\"Brazil\")"
   ]
  },
  {
   "cell_type": "markdown",
   "metadata": {},
   "source": [
    "## Return Values\n",
    "\n",
    "---\n",
    "\n",
    "To let a function return a value, use the ``return`` statement:"
   ]
  },
  {
   "cell_type": "code",
   "execution_count": null,
   "metadata": {},
   "outputs": [],
   "source": [
    "def my_function(x):\n",
    "  return 5 * x\n",
    "\n",
    "print(my_function(3))\n",
    "print(my_function(5))\n",
    "print(my_function(9))"
   ]
  },
  {
   "cell_type": "markdown",
   "metadata": {},
   "source": [
    "`## The pass Statement\n",
    "function definitions cannot be empty, but if you for some reason have a function definition with no content, put in the pass statement to avoid getting an error.\n",
    "\n",
    "Example >\n",
    "```\n",
    "def myfunction():\n",
    "  pass\n",
    "```\n",
    "\n",
    "***# having an empty function definition like this, would raise an error without the pass statement***"
   ]
  },
  {
   "cell_type": "markdown",
   "metadata": {},
   "source": [
    "# Recursion\n",
    "\n",
    "---\n",
    "\n",
    " ![](https://robologs.net/wp-content/uploads/2015/03/descomposicion_factorial1.png)\n",
    "\n",
    "---\n",
    "\n"
   ]
  },
  {
   "cell_type": "markdown",
   "metadata": {},
   "source": [
    "<img width=\"50\" height=\"50\" src=\"https://raw.githubusercontent.com/Tomate23/Images/8fb263cd7bb61bc39e276c6569a8f712a1a14e59/binary-code.svg\" alt=\"Binary code free icon\"> \n",
    "\n",
    "### Write a function one recursive and other iterative which calculate z x v  by add succesion\n",
    "\n",
    "---\n",
    "---\n"
   ]
  },
  {
   "cell_type": "markdown",
   "metadata": {},
   "source": [
    "### Iterative\n",
    "\n",
    "---\n"
   ]
  },
  {
   "cell_type": "code",
   "execution_count": null,
   "metadata": {},
   "outputs": [],
   "source": [
    "z = int(input(\"introduce value for z:\\t\"))\n",
    "v = int(input(\"introduce value for v:\\t\"))\n",
    "\n",
    "def itera(z, v):\n",
    "    suma = 0\n",
    "    for i in range(v):\n",
    "        suma += z\n",
    "    return suma\n",
    "    \n",
    "print(f\"Iterative code: {itera(z, v)}\")"
   ]
  },
  {
   "cell_type": "markdown",
   "metadata": {},
   "source": [
    "### Recursive\n",
    "\n",
    "---\n"
   ]
  },
  {
   "cell_type": "code",
   "execution_count": null,
   "metadata": {},
   "outputs": [],
   "source": [
    "z = int(input(\"introduce value for z:\\t\"))\n",
    "v = int(input(\"introduce value for v:\\t\"))\n",
    "\n",
    "def recur(z, v):\n",
    "    if v == 0:\n",
    "        return 0\n",
    "    else:\n",
    "        return z + recur(z, v-1)\n",
    "\n",
    "print(f\"Racursive Code {recur(z, v)}\")"
   ]
  },
  {
   "cell_type": "markdown",
   "metadata": {},
   "source": [
    "<img width=\"50\" height=\"50\" src=\"https://raw.githubusercontent.com/Tomate23/Images/8fb263cd7bb61bc39e276c6569a8f712a1a14e59/binary-code.svg\" alt=\"Binary code free icon\">  \n",
    "\n",
    "### Write a function one recursive and other iterative which calculate the binary number of a decimal number given.\n",
    "\n",
    "---\n",
    "---"
   ]
  },
  {
   "cell_type": "markdown",
   "metadata": {},
   "source": [
    "### Iterative\n",
    "\n",
    "---\n"
   ]
  },
  {
   "cell_type": "code",
   "execution_count": null,
   "metadata": {},
   "outputs": [],
   "source": [
    "# When we want to turn decimal number into binary what we do is devide by 2 and take the remainder (0 or 1)\n",
    "#5(10) ==> {5%2=1} {2%2=0} {1}  take the numbers from the end ===> 101(2)"
   ]
  },
  {
   "cell_type": "code",
   "execution_count": null,
   "metadata": {},
   "outputs": [],
   "source": [
    "binary=[] # we will be saving the binary numbers here\n",
    "def dec_bi(decimal):\n",
    "    if decimal == 0:\n",
    "        return 0\n",
    "    else:\n",
    "        binary.append(decimal % 2) # save the remainder of the division\n",
    "        # the following number that we have to divide is the quotient\n",
    "        return dec_bi(decimal // 2)\n",
    "    return binary\n",
    "\n",
    "decimalN = int(input(\"Introduce any decimal number > \"))\n",
    "dec_bi(decimalN)\n",
    "binary.reverse()\n",
    "print(f\"Decimal: {decimalN} --- Binary: {binary}\")\n"
   ]
  },
  {
   "cell_type": "code",
   "execution_count": 1,
   "metadata": {},
   "outputs": [
    {
     "name": "stdout",
     "output_type": "stream",
     "text": [
      "Introduce any decimal number > 45\n",
      "Decimal: 45 --- Binary: [1, 0, 1, 1, 0, 1]\n"
     ]
    }
   ],
   "source": [
    "# The same program but instead of using the reverse() function using a loop to reverse the list \n",
    "binary=[] \n",
    "def dec_bi(decimal):\n",
    "    if decimal == 0:\n",
    "        return 0\n",
    "    else:\n",
    "        binary.append(decimal % 2) \n",
    "        return dec_bi(decimal // 2)\n",
    "    return binary\n",
    "\n",
    "def myreverse(list):\n",
    "    list2=[]\n",
    "    for i in range(len(list)):\n",
    "        list2.append(list[len(list)-i-1])\n",
    "    return list2\n",
    "\n",
    "decimalN = int(input(\"Introduce any decimal number > \"))\n",
    "dec_bi(decimalN)\n",
    "print(f\"Decimal: {decimalN} --- Binary: {myreverse(binary)}\")"
   ]
  },
  {
   "cell_type": "code",
   "execution_count": null,
   "metadata": {},
   "outputs": [],
   "source": [
    "def myreverse(list):\n",
    "    list2=[]\n",
    "    for i in range(len(list)):\n",
    "        list2.append(list[len(list)-i-1])\n",
    "    return list2\n",
    "\n",
    "arr=[1,2,3,4]\n",
    "print(myreverse(arr))"
   ]
  }
 ],
 "metadata": {
  "kernelspec": {
   "display_name": "Python 3",
   "language": "python",
   "name": "python3"
  },
  "language_info": {
   "codemirror_mode": {
    "name": "ipython",
    "version": 3
   },
   "file_extension": ".py",
   "mimetype": "text/x-python",
   "name": "python",
   "nbconvert_exporter": "python",
   "pygments_lexer": "ipython3",
   "version": "3.8.5"
  }
 },
 "nbformat": 4,
 "nbformat_minor": 2
}
